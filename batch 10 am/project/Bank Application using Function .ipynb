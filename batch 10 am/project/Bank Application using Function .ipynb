{
 "cells": [
  {
   "cell_type": "code",
   "execution_count": 11,
   "metadata": {},
   "outputs": [
    {
     "data": {
      "text/plain": [
       "'C:\\\\Users\\\\Pradeep Sharma\\\\Desktop\\\\Summer Internship\\\\batch 10 am\\\\project'"
      ]
     },
     "execution_count": 11,
     "metadata": {},
     "output_type": "execute_result"
    }
   ],
   "source": [
    "pwd"
   ]
  },
  {
   "cell_type": "code",
   "execution_count": 19,
   "metadata": {},
   "outputs": [],
   "source": [
    "import os\n",
    "os.chdir('./project/bank_a"
   ]
  },
  {
   "cell_type": "code",
   "execution_count": 2,
   "metadata": {},
   "outputs": [],
   "source": [
    "## Libraries included\n",
    "from random import randint   # for generating Account Numbers\n",
    "from getpass import getpass  # for taking password as input in hidden format\n",
    "import shelve                # for managing database\n",
    "\n",
    "## Main Menu\n",
    "def main_menu():\n",
    "    print('Welcome To Apka Apna Bank'.center(60,'*'))\n",
    "    print('\\t1.\\tLogin\\n\\t2.\\tSignUp\\n\\t3.\\tExit')\n",
    "    ch=input('Select an option : ')\n",
    "    if ch=='1':\n",
    "        userAccountNumber=input('Enter Your Account Number : ')\n",
    "        login(userAccountNumber)\n",
    "    elif ch=='2':\n",
    "        signup()\n",
    "    else :\n",
    "        exit()\n",
    "        \n",
    "## Login Function\n",
    "\n",
    "def login(userAccountNumber):\n",
    "    data=shelve.open('./bank_app/user_data',writeback=True)\n",
    "    userPassword=getpass('Enter Your Password : ')\n",
    "    if userAccountNumber in data and userPassword == data[userAccountNumber]['password']:\n",
    "        print('You have succesfully Logged In')\n",
    "        print('\\n\\t1.  Credit\\n\\t2.  Debit\\n\\t3.  Check Balance\\n\\t4.  Change Password')\n",
    "        ch=input('Select an option : ')\n",
    "        if ch=='1' :\n",
    "            credit(userAccountNumber)\n",
    "        elif ch=='2':\n",
    "            debit(userAccountNumber)\n",
    "        elif ch=='3':\n",
    "            checkbalance(userAccountNumber)\n",
    "        elif ch=='4':\n",
    "            updatepassword(userAccountNumber)\n",
    "        else :\n",
    "            print('Sorry! You entered a wrong key')\n",
    "           \n",
    "    else :\n",
    "        print('Invalid Username And Password')\n",
    "    main_menu()\n",
    "    \n",
    "## Credit Function\n",
    "\n",
    "def credit(userAccountNumber):\n",
    "    amount=int(input('Enter the amount you want to add : '))\n",
    "    data=shelve.open('./bank_app/user_data',writeback=True)\n",
    "    new_bal=data[userAccountNumber]['balance']+amount\n",
    "    data[userAccountNumber]['balance']=new_bal\n",
    "    print(f\"Your Updated Balance is : {new_bal}\")\n",
    "    data.close()\n",
    "    main_menu()\n",
    "    \n",
    "## Debit Function\n",
    "\n",
    "def debit(userAccountNumber):\n",
    "    amount=int(input('Enter the amount you want to withdraw : '))\n",
    "    data=shelve.open('./bank_app/user_data',writeback=True)\n",
    "    if amount <= data[userAccountNumber]['balance']:\n",
    "        new_bal=data[userAccountNumber]['balance']-amount\n",
    "        data[userAccountNumber]['balance']=new_bal\n",
    "        ch=input('Press Yes if you want to display your balance').strip().lower()\n",
    "        if ch=='yes':\n",
    "            print(f'Your remaining balance is {new_bal}')\n",
    "        else :\n",
    "            print('Thanks for using our services')\n",
    "    else :\n",
    "        print('Insufficient Fund ')\n",
    "    data.close()\n",
    "    main_menu()\n",
    "    \n",
    "        \n",
    "## Check balance Function\n",
    "def checkbalance(userAccountNumber):\n",
    "    data=shelve.open('./bank_app/user_data',writeback=True)\n",
    "    amount=data[userAccountNumber]['balance']\n",
    "    print(f'Your Current Balance is : {amount}')\n",
    "    data.close()\n",
    "    main_menu()\n",
    "      \n",
    "        \n",
    "## Update Password Function\n",
    "def updatepassword(userAccountNumber):\n",
    "        data=shelve.open('./bank_app/user_data',writeback=True)\n",
    "        oldPassword=getpass('Please enter your old Password : ')\n",
    "        if oldPassword == data[userAccountNumber]['password']:\n",
    "            newPassword=getpass('Please enter new password : ')\n",
    "            confirmPassword=getpass('Please confirm new password : ')\n",
    "            if newPassword == confirmPassword:\n",
    "                data[userAccountNumber]['password']=newPassword\n",
    "                print('Your password is updated successfully')\n",
    "            else :\n",
    "                print('Password did not match. Please ty again')\n",
    "        else :\n",
    "            print('You entered wrong password')\n",
    "        data.close()\n",
    "        main_menu()\n",
    "    \n",
    "## SignUp Function\n",
    "\n",
    "def signup():\n",
    "    print('Welcome to Apka Apna Bank'.center(60,'*'))\n",
    "    userName=input('Please Enter Your Name : ')\n",
    "    userPassword=getpass('Enter Your Password : ')\n",
    "    userBalance=int(input('Enter Your Balance : '))\n",
    "    ##accountNumber=str(randint(1942000100,1942999999))\n",
    "    ##data=shelve.open('./bank_app/user_data',writeback=True)\n",
    "    ##if accountNumber in data.keys():\n",
    "    ##    accountNumber=str(randint(1942000100,1942000000))\n",
    "    fp=open('./bank_app/last_acc.dat','r')\n",
    "    userAccountNumber=int(fp.read())\n",
    "    userAccountNumber=str(userAccountNumber+1)\n",
    "    fp.close()\n",
    "    fp=open('./bank_app/last_acc.dat','w')\n",
    "    fp.write(userAccountNumber)\n",
    "    fp.close()\n",
    "    data=shelve.open('./bank_app/user_data',writeback=True)\n",
    "    userDict={'name':userName, 'password':userPassword, 'balance':userBalance}\n",
    "    data[userAccountNumber]=userDict\n",
    "    print(f\"Congratulations! You are now our customer.\\nYour Username is : {userName}\\nAccount Number is : {userAccountNumber}\")\n",
    "    data.close()\n",
    "    main_menu()\n",
    "        \n",
    "## Exit Function\n",
    "\n",
    "def exit():\n",
    "    print(\"Thanks for paying a visit.\")\n",
    "    print('Have a good day sir!')\n",
    "        "
   ]
  },
  {
   "cell_type": "code",
   "execution_count": 5,
   "metadata": {},
   "outputs": [
    {
     "name": "stdout",
     "output_type": "stream",
     "text": [
      "*****************Welcome To Apka Apna Bank******************\n",
      "\t1.\tLogin\n",
      "\t2.\tSignUp\n",
      "\t3.\tExit\n",
      "Select an option : 3\n",
      "Thanks for paying a visit.\n",
      "Have a good day sir!\n"
     ]
    }
   ],
   "source": [
    "main_menu()"
   ]
  },
  {
   "cell_type": "code",
   "execution_count": 6,
   "metadata": {},
   "outputs": [
    {
     "name": "stdout",
     "output_type": "stream",
     "text": [
      "['BsdDbShelf', 'BytesIO', 'DbfilenameShelf', 'Pickler', 'Shelf', 'Unpickler', '_ClosedDict', '__all__', '__builtins__', '__cached__', '__doc__', '__file__', '__loader__', '__name__', '__package__', '__spec__', 'collections', 'open']\n"
     ]
    }
   ],
   "source": [
    "print(dir(shelve))"
   ]
  }
 ],
 "metadata": {
  "kernelspec": {
   "display_name": "Python 3",
   "language": "python",
   "name": "python3"
  },
  "language_info": {
   "codemirror_mode": {
    "name": "ipython",
    "version": 3
   },
   "file_extension": ".py",
   "mimetype": "text/x-python",
   "name": "python",
   "nbconvert_exporter": "python",
   "pygments_lexer": "ipython3",
   "version": "3.6.4"
  }
 },
 "nbformat": 4,
 "nbformat_minor": 2
}
