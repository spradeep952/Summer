{
 "cells": [
  {
   "cell_type": "code",
   "execution_count": 21,
   "metadata": {},
   "outputs": [
    {
     "data": {
      "text/plain": [
       "'C:\\\\Users\\\\Pradeep Sharma\\\\Desktop\\\\Summer Internship\\\\batch 10 am\\\\project\\\\bank_app'"
      ]
     },
     "execution_count": 21,
     "metadata": {},
     "output_type": "execute_result"
    }
   ],
   "source": [
    "pwd"
   ]
  },
  {
   "cell_type": "code",
   "execution_count": 19,
   "metadata": {},
   "outputs": [],
   "source": [
    "import os\n",
    "os.chdir('./project/bank_app/')"
   ]
  },
  {
   "cell_type": "code",
   "execution_count": 1,
   "metadata": {},
   "outputs": [],
   "source": [
    "## Libraries included\n",
    "from random import randint   # for generating Account Numbers\n",
    "from getpass import getpass  # for taking password as input in hidden format\n",
    "import shelve                # for managing database\n",
    "\n",
    "## Main Menu\n",
    "def main_menu():\n",
    "    print('Welcome'.center(60,'*'))\n",
    "    print('\\t1.\\tLogin\\n\\t2.\\tSignUp\\n\\t3.\\tExit')\n",
    "    ch=input('Select an option : ')\n",
    "    if ch=='1':\n",
    "        userAccountNumber=input('Enter Your Account Number : ')\n",
    "        login(userAccountNumber)\n",
    "    elif ch=='2':\n",
    "        signup()\n",
    "    else :\n",
    "        exit()\n",
    "        \n",
    "## Login Function\n",
    "\n",
    "def login(userAccountNumber):\n",
    "    data=shelve.open('./user_data')\n",
    "    userPassword=getpass('Enter Your Password : ')\n",
    "    if userAccountNumber in data and userPassword == data[userAccountNumber]['password']:\n",
    "        print('\\n\\t1.  Credit\\n\\t2.  Debit\\n\\t3.  Check Balance\\n\\t4.  Change Password')\n",
    "        ch=input('Select an option : ')\n",
    "        if ch=='1' :\n",
    "            credit(userAccountNumber)\n",
    "        elif ch=='2':\n",
    "            debit(userAccountNumber)\n",
    "        elif ch=='3':\n",
    "            checkbalance(userAccountNumber)\n",
    "        elif ch=='4':\n",
    "            updatepassword(userAccountNumber)\n",
    "        else :\n",
    "            print('Sorry! You entered a wrong key')\n",
    "            main_menu()\n",
    "         \n",
    "    else :\n",
    "        print('Invalid Username And Password')\n",
    "        main_menu()\n",
    "    \n",
    "## Credit Function\n",
    "\n",
    "def credit(userAccountNumber):\n",
    "    amount=int(input('Enter the amount you want to add : '))\n",
    "    data=shelve.open('./user_data')\n",
    "    new_bal=data[userAccountNumber]['balance']+amount\n",
    "    data[userAccountNumber]['balance']=new_bal\n",
    "    data.close()\n",
    "    print(f\"Your Updated Balance is  {new_bal}\")\n",
    "    main_menu()\n",
    "    \n",
    "## Debit Function\n",
    "\n",
    "def debit(userAccountNumber):\n",
    "    amount=int(input('Enter the amount you want to withdraw : '))\n",
    "    data=shelve.open('./user_data')\n",
    "    if amount <= data[userAccountNumber]['balance']:\n",
    "        new_bal=data[userAccountNumber]['balance']-amount\n",
    "        data[userAccountNumber]['balance']=new_bal\n",
    "    else :\n",
    "        print('Insufficient Fund ')\n",
    "    ch=input('Press 1 if you want to display your balance')\n",
    "    if ch=='1':\n",
    "        print(f'Your remaining balance is {new_bal}')\n",
    "        main_menu()\n",
    "    else :\n",
    "        main_menu()\n",
    "        \n",
    "## Check balance Function\n",
    "def checkbalance(userAccountNumber):\n",
    "    data=shelve.open('./user_data')\n",
    "    amount=data[userAccountNumber]['balance']\n",
    "    print(f'Your Balance is : {amount}')\n",
    "    data.close()\n",
    "    main_menu()\n",
    "      \n",
    "        \n",
    "## Update Password Function\n",
    "def updatepassword(userAccountNumber):\n",
    "    life=3\n",
    "    if life >=1:\n",
    "        data=shelve.open('./user_data')\n",
    "        oldPassword=getpass('Please enter your old Password : ')\n",
    "        if oldPassword == data[userAccountNumber]['password']:\n",
    "            newPassword=getpass('Please enter new password : ')\n",
    "            confirmPassword=getpass('Please confirm new password : ')\n",
    "            if newPassword == confirmPassword:\n",
    "                data[userAccountNumber]['balance']=newPassword\n",
    "            else :\n",
    "                print('Password did not match. Please ty again')\n",
    "                updatepassword(userAccountNumber)\n",
    "        \n",
    "        else :\n",
    "            print('You entered wrong password')\n",
    "        data.close()\n",
    "        life=life-1\n",
    "    else :\n",
    "        print('Sorry! You made too many attempts.\\nPLease Try again later')\n",
    "    main_menu()\n",
    "    \n",
    "## SignUp Function\n",
    "\n",
    "def signup():\n",
    "    print('Welcome to Apka Apna Bank'.center(60,'*'))\n",
    "    userName=input('Please Enter Your Name : ')\n",
    "    userPassword=getpass('Enter Your Password : ')\n",
    "    accountNumber=str(randint(1942000100,1942999999))\n",
    "    data=shelve.open('./user_data')\n",
    "    if accountNumber in data.keys():\n",
    "        accountNumber=str(randint(1942000100,1942000000))\n",
    "    ##data=shelve.open('./user_data')\n",
    "    userDict={'name':userName, 'password':userPassword, 'balance':0}\n",
    "    data[accountNumber]=userDict\n",
    "    print(f\"Congratulations! You are now our customer.\\nYour Username is : {userName}\\nAccount Number is : {accountNumber}\")\n",
    "    data.close()\n",
    "    main_menu()\n",
    "    \n",
    "    \n",
    "## Exit Function\n",
    "def exit():\n",
    "    print(\"Thanks for paying your visit.\")\n",
    "    print('Have a good day sir!')\n",
    "        "
   ]
  },
  {
   "cell_type": "code",
   "execution_count": null,
   "metadata": {},
   "outputs": [
    {
     "name": "stdout",
     "output_type": "stream",
     "text": [
      "**************************Welcome***************************\n",
      "\t1.\tLogin\n",
      "\t2.\tSignUp\n",
      "\t3.\tExit\n",
      "Select an option : 1\n",
      "Enter Your Account Number : 1942000100\n",
      "Enter Your Password : ········\n",
      "Invalid Username And Password\n",
      "**************************Welcome***************************\n",
      "\t1.\tLogin\n",
      "\t2.\tSignUp\n",
      "\t3.\tExit\n"
     ]
    }
   ],
   "source": [
    "main_menu()"
   ]
  },
  {
   "cell_type": "code",
   "execution_count": 3,
   "metadata": {},
   "outputs": [
    {
     "name": "stdout",
     "output_type": "stream",
     "text": [
      "['BsdDbShelf', 'BytesIO', 'DbfilenameShelf', 'Pickler', 'Shelf', 'Unpickler', '_ClosedDict', '__all__', '__builtins__', '__cached__', '__doc__', '__file__', '__loader__', '__name__', '__package__', '__spec__', 'collections', 'open']\n"
     ]
    }
   ],
   "source": [
    "print(dir(shelve))"
   ]
  }
 ],
 "metadata": {
  "kernelspec": {
   "display_name": "Python 3",
   "language": "python",
   "name": "python3"
  },
  "language_info": {
   "codemirror_mode": {
    "name": "ipython",
    "version": 3
   },
   "file_extension": ".py",
   "mimetype": "text/x-python",
   "name": "python",
   "nbconvert_exporter": "python",
   "pygments_lexer": "ipython3",
   "version": "3.6.4"
  }
 },
 "nbformat": 4,
 "nbformat_minor": 2
}
