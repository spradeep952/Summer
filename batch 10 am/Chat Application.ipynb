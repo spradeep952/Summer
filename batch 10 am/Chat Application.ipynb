{
 "cells": [
  {
   "cell_type": "code",
   "execution_count": 1,
   "metadata": {},
   "outputs": [
    {
     "name": "stdout",
     "output_type": "stream",
     "text": [
      "Overwriting server.py\n"
     ]
    }
   ],
   "source": [
    "%%writefile server.py\n",
    "import socket\n",
    "\n",
    "server = socket.socket()\n",
    "server.bind((\"localhost\",12345))\n",
    "server.listen()\n",
    "client,address = server.accept()\n",
    "while True : \n",
    "    msg = input(\"server --> \").encode()\n",
    "    client.send(msg)\n",
    "    msg = client.recv(1024).decode()\n",
    "    print(\"client -->\", msg)\n",
    "    if 'bye' == msg.lower().strip() : \n",
    "        client.close()\n",
    "        server.close()\n",
    "        break"
   ]
  },
  {
   "cell_type": "code",
   "execution_count": 2,
   "metadata": {},
   "outputs": [
    {
     "name": "stdout",
     "output_type": "stream",
     "text": [
      "Overwriting client.py\n"
     ]
    }
   ],
   "source": [
    "%%writefile client.py\n",
    "# client side\n",
    "import socket\n",
    "client = socket.socket()\n",
    "client.connect((\"localhost\",12345))\n",
    "while True : \n",
    "    msg = client.recv(1024).decode()\n",
    "    print(\"server--> \",msg)\n",
    "    if msg.lower().strip() == 'bye' : \n",
    "        client.send('bye'.encode())\n",
    "        client.close()\n",
    "        break\n",
    "    msg = input(\"client--> \")\n",
    "    client.send(msg.encode())"
   ]
  },
  {
   "cell_type": "code",
   "execution_count": null,
   "metadata": {},
   "outputs": [],
   "source": [
    "socket.getHost"
   ]
  },
  {
   "cell_type": "code",
   "execution_count": null,
   "metadata": {},
   "outputs": [],
   "source": []
  }
 ],
 "metadata": {
  "kernelspec": {
   "display_name": "Python 3",
   "language": "python",
   "name": "python3"
  },
  "language_info": {
   "codemirror_mode": {
    "name": "ipython",
    "version": 3
   },
   "file_extension": ".py",
   "mimetype": "text/x-python",
   "name": "python",
   "nbconvert_exporter": "python",
   "pygments_lexer": "ipython3",
   "version": "3.6.4"
  }
 },
 "nbformat": 4,
 "nbformat_minor": 2
}
