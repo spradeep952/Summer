{
 "cells": [
  {
   "cell_type": "code",
   "execution_count": null,
   "metadata": {},
   "outputs": [],
   "source": [
    "print('hello') if True else print('world')  ## if true"
   ]
  },
  {
   "cell_type": "code",
   "execution_count": null,
   "metadata": {},
   "outputs": [],
   "source": [
    "print('hello') if False else print('world')  ## if false"
   ]
  },
  {
   "cell_type": "code",
   "execution_count": null,
   "metadata": {},
   "outputs": [],
   "source": [
    "num=int(input('enter a no. : '))\n",
    "print('even') if num%2 else print('odd')"
   ]
  },
  {
   "cell_type": "markdown",
   "metadata": {},
   "source": [
    "## print() statement return none which is considered as false\n",
    "## input() sting will take an input if input is any string even a single space then it is true else it is false"
   ]
  },
  {
   "cell_type": "code",
   "execution_count": 1,
   "metadata": {},
   "outputs": [
    {
     "name": "stdout",
     "output_type": "stream",
     "text": [
      "enter the age: 21\n",
      "you can vote\n"
     ]
    }
   ],
   "source": [
    "## to check if one can vote or not\n",
    "age=int(input('enter the age: '))\n",
    "if age>=18 :\n",
    "    print(\"you can vote\")\n",
    "else :\n",
    "    print(\"you can not vote.\")"
   ]
  },
  {
   "cell_type": "code",
   "execution_count": 2,
   "metadata": {},
   "outputs": [
    {
     "name": "stdout",
     "output_type": "stream",
     "text": [
      "enter available  amount1200\n",
      "you can go to movie\n"
     ]
    }
   ],
   "source": [
    "amount=int(input('enter available  amount'))\n",
    "if amount>=1000 :\n",
    "    print('you can go to movie')\n",
    "elif amount>=800 :\n",
    "    print(\"you can go to restaurant\")\n",
    "else :\n",
    "    print(\"ghar baitho\")"
   ]
  },
  {
   "cell_type": "code",
   "execution_count": 1,
   "metadata": {},
   "outputs": [
    {
     "name": "stdout",
     "output_type": "stream",
     "text": [
      "enter profession if government type gov else type other gov\n",
      "enter salary23000\n",
      "sorry you r not eligible\n"
     ]
    }
   ],
   "source": [
    "## to check if loan can be given or not\n",
    "prof=input('enter profession if government type gov else type other ')\n",
    "if prof=='gov' :\n",
    "    salary=int(input('enter salary'))\n",
    "    if salary>=50000 :\n",
    "        print('you are eligible')\n",
    "    else :\n",
    "        print('sorry you r not eligible')\n",
    "else :\n",
    "    print('sorry you are no eligible')"
   ]
  },
  {
   "cell_type": "code",
   "execution_count": 6,
   "metadata": {},
   "outputs": [
    {
     "name": "stdout",
     "output_type": "stream",
     "text": [
      "enter a number: 6\n",
      "enter b number: 7\n",
      "enter c number: 4\n",
      "7 is greatest\n"
     ]
    }
   ],
   "source": [
    "a=int(input('enter a number: '))\n",
    "b=int(input('enter b number: '))\n",
    "c=int(input('enter c number: '))\n",
    "if a>b and a>c :\n",
    "    print(a,'is greatest')\n",
    "elif b>c :\n",
    "    print(b,'is greatest')\n",
    "else :\n",
    "    print(c,'is greatest')"
   ]
  },
  {
   "cell_type": "code",
   "execution_count": 7,
   "metadata": {},
   "outputs": [],
   "source": [
    "#leap Year \n",
    "#rock paper scissor"
   ]
  },
  {
   "cell_type": "code",
   "execution_count": 10,
   "metadata": {},
   "outputs": [
    {
     "name": "stdout",
     "output_type": "stream",
     "text": [
      "enter player 1 choice : rock\n",
      "enter player 2 choice : scissor\n",
      "player 1 won\n"
     ]
    }
   ],
   "source": [
    "p1=input('enter player 1 choice : ').strip().lower()\n",
    "p2=input('enter player 2 choice : ').strip().lower()\n",
    "if p1==p2 :\n",
    "    print('Match Tied')\n",
    "elif (p1=='rock' and p2=='scissor') or (p1=='paper' and p2=='rock') or (p1=='scissor' and p2=='paper') :\n",
    "    print('player 1 won')\n",
    "else :\n",
    "    print('Player 2 won')"
   ]
  },
  {
   "cell_type": "code",
   "execution_count": 1,
   "metadata": {},
   "outputs": [
    {
     "name": "stdout",
     "output_type": "stream",
     "text": [
      "hello pradeep\n"
     ]
    }
   ],
   "source": [
    "print('hello pradeep') if True else print('world')"
   ]
  },
  {
   "cell_type": "code",
   "execution_count": 4,
   "metadata": {},
   "outputs": [
    {
     "name": "stdout",
     "output_type": "stream",
     "text": [
      "hello\tworld\tpradeep-Sharma\n"
     ]
    }
   ],
   "source": [
    "print(\"hello\",\"world\",\"pradeep\",sep='\\t',end=\"-\")\n",
    "print(\"Sharma\")"
   ]
  },
  {
   "cell_type": "code",
   "execution_count": 5,
   "metadata": {},
   "outputs": [
    {
     "name": "stdout",
     "output_type": "stream",
     "text": [
      " Volume in drive C has no label.\n",
      " Volume Serial Number is A0E9-FF6D\n",
      "\n",
      " Directory of C:\\Users\\Pradeep Sharma\\Desktop\\Summer Internship\\batch 10 am\n",
      "\n",
      "05/19/2019  11:38 PM    <DIR>          .\n",
      "05/19/2019  11:38 PM    <DIR>          ..\n",
      "05/19/2019  06:14 PM    <DIR>          .ipynb_checkpoints\n",
      "05/16/2019  12:19 PM            15,644 5. Dictionary.ipynb\n",
      "05/17/2019  07:35 AM             7,977 6. Set in Python.ipynb\n",
      "05/16/2019  01:43 PM             9,449 7. Operators in Python.ipynb\n",
      "05/17/2019  11:11 AM             5,989 8. Dictionary.ipynb\n",
      "05/19/2019  11:38 PM             5,191 9. Control Statements.ipynb\n",
      "05/19/2019  07:02 PM             6,175 Assignment 7.ipynb\n",
      "05/18/2019  10:31 AM             9,115 Assignment.ipynb\n",
      "05/15/2019  07:36 PM            27,906 Day 1    Datatypes.ipynb\n",
      "               8 File(s)         87,446 bytes\n",
      "               3 Dir(s)  14,537,306,112 bytes free\n"
     ]
    }
   ],
   "source": [
    "ls"
   ]
  },
  {
   "cell_type": "code",
   "execution_count": 11,
   "metadata": {},
   "outputs": [],
   "source": [
    "file=open(\"sharma.txt\",\"w\")\n",
    "for i in range(1,5) :\n",
    "    print(\"Pradeep\",file=file)"
   ]
  },
  {
   "cell_type": "code",
   "execution_count": 12,
   "metadata": {},
   "outputs": [],
   "source": [
    "for i in range(1,10) :\n",
    "    print(*\"Pradeeep\",sep='\\n',file=file)"
   ]
  },
  {
   "cell_type": "code",
   "execution_count": 13,
   "metadata": {},
   "outputs": [],
   "source": [
    "file.close()"
   ]
  },
  {
   "cell_type": "code",
   "execution_count": 14,
   "metadata": {},
   "outputs": [
    {
     "name": "stdout",
     "output_type": "stream",
     "text": [
      "['_CHUNK_SIZE', '__class__', '__del__', '__delattr__', '__dict__', '__dir__', '__doc__', '__enter__', '__eq__', '__exit__', '__format__', '__ge__', '__getattribute__', '__getstate__', '__gt__', '__hash__', '__init__', '__init_subclass__', '__iter__', '__le__', '__lt__', '__ne__', '__new__', '__next__', '__reduce__', '__reduce_ex__', '__repr__', '__setattr__', '__sizeof__', '__str__', '__subclasshook__', '_checkClosed', '_checkReadable', '_checkSeekable', '_checkWritable', '_finalizing', 'buffer', 'close', 'closed', 'detach', 'encoding', 'errors', 'fileno', 'flush', 'isatty', 'line_buffering', 'mode', 'name', 'newlines', 'read', 'readable', 'readline', 'readlines', 'seek', 'seekable', 'tell', 'truncate', 'writable', 'write', 'writelines']\n"
     ]
    }
   ],
   "source": [
    "print(dir(file))"
   ]
  },
  {
   "cell_type": "code",
   "execution_count": 17,
   "metadata": {},
   "outputs": [],
   "source": [
    "file.close()"
   ]
  },
  {
   "cell_type": "code",
   "execution_count": 20,
   "metadata": {},
   "outputs": [
    {
     "name": "stdout",
     "output_type": "stream",
     "text": [
      " Volume in drive C has no label.\n",
      " Volume Serial Number is A0E9-FF6D\n",
      "\n",
      " Directory of C:\\Users\\Pradeep Sharma\\Desktop\\Summer Internship\\batch 10 am\n",
      "\n",
      "05/19/2019  11:46 PM    <DIR>          .\n",
      "05/19/2019  11:46 PM    <DIR>          ..\n",
      "05/19/2019  06:14 PM    <DIR>          .ipynb_checkpoints\n",
      "05/16/2019  12:19 PM            15,644 5. Dictionary.ipynb\n",
      "05/17/2019  07:35 AM             7,977 6. Set in Python.ipynb\n",
      "05/16/2019  01:43 PM             9,449 7. Operators in Python.ipynb\n",
      "05/17/2019  11:11 AM             5,989 8. Dictionary.ipynb\n",
      "05/19/2019  11:46 PM             8,296 9. Control Statements.ipynb\n",
      "05/19/2019  07:02 PM             6,175 Assignment 7.ipynb\n",
      "05/18/2019  10:31 AM             9,115 Assignment.ipynb\n",
      "05/15/2019  07:36 PM            27,906 Day 1    Datatypes.ipynb\n",
      "05/19/2019  11:43 PM               252 sharma.txt\n",
      "               9 File(s)         90,803 bytes\n",
      "               3 Dir(s)  14,534,549,504 bytes free\n"
     ]
    }
   ],
   "source": [
    "ls\n"
   ]
  },
  {
   "cell_type": "code",
   "execution_count": 28,
   "metadata": {},
   "outputs": [],
   "source": [
    "import re"
   ]
  },
  {
   "cell_type": "code",
   "execution_count": 32,
   "metadata": {},
   "outputs": [
    {
     "name": "stdout",
     "output_type": "stream",
     "text": [
      "['12344', '39473', '32534', '50928', '34305', '45029', '42934', '45545', '45345', '03495']\n"
     ]
    }
   ],
   "source": [
    "s=\"\"\"123443947395\n",
    "  fgishfwfnviver\n",
    "    325345092834305450294\n",
    "    42934845u7852   igsw3t45545\n",
    "    wrjjfjifsfs\n",
    "    4534503495824\"\"\"\n",
    "num=re.findall(r\"[0-9]{5}\",s)\n",
    "print(num)"
   ]
  },
  {
   "cell_type": "code",
   "execution_count": 76,
   "metadata": {},
   "outputs": [
    {
     "name": "stdout",
     "output_type": "stream",
     "text": [
      "['pradeep', 'Pradeep', 'pradeep', 'pradeep', 'Pradeep']\n",
      "5\n"
     ]
    }
   ],
   "source": [
    "## pattern finding\n",
    "s=\"\"\" hEllo how are you all?\n",
    "  Is there pradeep Sharma in the room?\n",
    "  If you know Pradeep sharma then please tell me his contact number?\n",
    "  pradeep Sharma is my friend of pradeep sharma\n",
    "  Pradeep sharma is a good guy.\n",
    "\"\"\"\n",
    "pat=re.compile(r\"[p+P][r][a][d][e][e][p]?\")\n",
    "find=re.findall(pat,s)\n",
    "print(find)\n",
    "print(len(find))"
   ]
  },
  {
   "cell_type": "markdown",
   "metadata": {},
   "source": []
  },
  {
   "cell_type": "code",
   "execution_count": 4,
   "metadata": {},
   "outputs": [
    {
     "name": "stdout",
     "output_type": "stream",
     "text": [
      "['45', '45', '65', '45', '75', '45', '25', '65', '75', '45', '85']\n"
     ]
    }
   ],
   "source": [
    "import re\n",
    "p=\"\"\"\n",
    "    12345 7664532\n",
    "    667654647\n",
    "    456754562565675   98445690485730 FDFKJBNERGKINVKS \n",
    "    ONFKSDFNET\n",
    "\"\"\"\n",
    "pat=re.compile(r\"[0-9][5]\")\n",
    "values=re.findall(pat,p)\n",
    "print(values)\n"
   ]
  },
  {
   "cell_type": "code",
   "execution_count": 5,
   "metadata": {},
   "outputs": [
    {
     "name": "stdout",
     "output_type": "stream",
     "text": [
      "(3, 5, 6)\n"
     ]
    }
   ],
   "source": [
    "l=[1,2,3,4,(3,5,6)]\n",
    "print(l[4])"
   ]
  },
  {
   "cell_type": "code",
   "execution_count": 6,
   "metadata": {},
   "outputs": [
    {
     "name": "stdout",
     "output_type": "stream",
     "text": [
      "[2, 3, 4]\n"
     ]
    }
   ],
   "source": [
    "t=(1,2,3,[2,3,4])\n",
    "print(t[3])"
   ]
  },
  {
   "cell_type": "code",
   "execution_count": null,
   "metadata": {},
   "outputs": [],
   "source": []
  }
 ],
 "metadata": {
  "kernelspec": {
   "display_name": "Python 3",
   "language": "python",
   "name": "python3"
  },
  "language_info": {
   "codemirror_mode": {
    "name": "ipython",
    "version": 3
   },
   "file_extension": ".py",
   "mimetype": "text/x-python",
   "name": "python",
   "nbconvert_exporter": "python",
   "pygments_lexer": "ipython3",
   "version": "3.6.4"
  }
 },
 "nbformat": 4,
 "nbformat_minor": 2
}
