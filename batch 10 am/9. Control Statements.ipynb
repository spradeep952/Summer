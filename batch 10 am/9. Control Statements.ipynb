{
 "cells": [
  {
   "cell_type": "code",
   "execution_count": null,
   "metadata": {},
   "outputs": [],
   "source": [
    "print('hello') if True else print('world')  ## if true"
   ]
  },
  {
   "cell_type": "code",
   "execution_count": null,
   "metadata": {},
   "outputs": [],
   "source": [
    "print('hello') if False else print('world')  ## if false"
   ]
  },
  {
   "cell_type": "code",
   "execution_count": null,
   "metadata": {},
   "outputs": [],
   "source": [
    "num=int(input('enter a no. : '))\n",
    "print('even') if num%2 else print('odd')"
   ]
  },
  {
   "cell_type": "markdown",
   "metadata": {},
   "source": [
    "## print() statement return none which is considered as false\n",
    "## input() sting will take an input if input is any string even a single space then it is true else it is false"
   ]
  },
  {
   "cell_type": "code",
   "execution_count": 1,
   "metadata": {},
   "outputs": [
    {
     "name": "stdout",
     "output_type": "stream",
     "text": [
      "enter the age: 21\n",
      "you can vote\n"
     ]
    }
   ],
   "source": [
    "## to check if one can vote or not\n",
    "age=int(input('enter the age: '))\n",
    "if age>=18 :\n",
    "    print(\"you can vote\")\n",
    "else :\n",
    "    print(\"you can not vote.\")"
   ]
  },
  {
   "cell_type": "code",
   "execution_count": 2,
   "metadata": {},
   "outputs": [
    {
     "name": "stdout",
     "output_type": "stream",
     "text": [
      "enter available  amount1200\n",
      "you can go to movie\n"
     ]
    }
   ],
   "source": [
    "amount=int(input('enter available  amount'))\n",
    "if amount>=1000 :\n",
    "    print('you can go to movie')\n",
    "elif amount>=800 :\n",
    "    print(\"you can go to restaurant\")\n",
    "else :\n",
    "    print(\"ghar baitho\")"
   ]
  },
  {
   "cell_type": "code",
   "execution_count": 1,
   "metadata": {},
   "outputs": [
    {
     "name": "stdout",
     "output_type": "stream",
     "text": [
      "enter profession if government type gov else type other gov\n",
      "enter salary23000\n",
      "sorry you r not eligible\n"
     ]
    }
   ],
   "source": [
    "## to check if loan can be given or not\n",
    "prof=input('enter profession if government type gov else type other ')\n",
    "if prof=='gov' :\n",
    "    salary=int(input('enter salary'))\n",
    "    if salary>=50000 :\n",
    "        print('you are eligible')\n",
    "    else :\n",
    "        print('sorry you r not eligible')\n",
    "else :\n",
    "    print('sorry you are no eligible')"
   ]
  },
  {
   "cell_type": "code",
   "execution_count": 6,
   "metadata": {},
   "outputs": [
    {
     "name": "stdout",
     "output_type": "stream",
     "text": [
      "enter a number: 6\n",
      "enter b number: 7\n",
      "enter c number: 4\n",
      "7 is greatest\n"
     ]
    }
   ],
   "source": [
    "a=int(input('enter a number: '))\n",
    "b=int(input('enter b number: '))\n",
    "c=int(input('enter c number: '))\n",
    "if a>b and a>c :\n",
    "    print(a,'is greatest')\n",
    "elif b>c :\n",
    "    print(b,'is greatest')\n",
    "else :\n",
    "    print(c,'is greatest')"
   ]
  },
  {
   "cell_type": "code",
   "execution_count": 7,
   "metadata": {},
   "outputs": [],
   "source": [
    "#leap Year \n",
    "#rock paper scissor"
   ]
  },
  {
   "cell_type": "code",
   "execution_count": 10,
   "metadata": {},
   "outputs": [
    {
     "name": "stdout",
     "output_type": "stream",
     "text": [
      "enter player 1 choice : rock\n",
      "enter player 2 choice : scissor\n",
      "player 1 won\n"
     ]
    }
   ],
   "source": [
    "p1=input('enter player 1 choice : ').strip().lower()\n",
    "p2=input('enter player 2 choice : ').strip().lower()\n",
    "if p1==p2 :\n",
    "    print('Match Tied')\n",
    "elif (p1=='rock' and p2=='scissor') or (p1=='paper' and p2=='rock') or (p1=='scissor' and p2=='paper') :\n",
    "    print('player 1 won')\n",
    "else :\n",
    "    print('Player 2 won')"
   ]
  },
  {
   "cell_type": "code",
   "execution_count": 1,
   "metadata": {},
   "outputs": [
    {
     "name": "stdout",
     "output_type": "stream",
     "text": [
      "hello pradeep\n"
     ]
    }
   ],
   "source": [
    "print('hello pradeep') if True else print('world')"
   ]
  },
  {
   "cell_type": "code",
   "execution_count": null,
   "metadata": {},
   "outputs": [],
   "source": []
  }
 ],
 "metadata": {
  "kernelspec": {
   "display_name": "Python 3",
   "language": "python",
   "name": "python3"
  },
  "language_info": {
   "codemirror_mode": {
    "name": "ipython",
    "version": 3
   },
   "file_extension": ".py",
   "mimetype": "text/x-python",
   "name": "python",
   "nbconvert_exporter": "python",
   "pygments_lexer": "ipython3",
   "version": "3.6.4"
  }
 },
 "nbformat": 4,
 "nbformat_minor": 2
}
