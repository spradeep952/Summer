{
 "cells": [
  {
   "cell_type": "code",
   "execution_count": 6,
   "metadata": {},
   "outputs": [
    {
     "name": "stdout",
     "output_type": "stream",
     "text": [
      "****************Welcome!****************\n",
      "\n",
      "\t1. Login \n",
      "\t2. SignUp\n",
      "\t3. Exit\n",
      " \n",
      "Choose from above options : 1\n",
      "Enter Your Account Number : 1942000100\n",
      "Enter Your Password : john@123\n",
      "\t1. Credit\n",
      "\t2. Debit\n",
      "\t3. Check Balance\n",
      "\n",
      "Enter Your Choice : 3\n",
      "John Your Account Balance Is : 20000\n",
      "\n",
      "\t1. Login \n",
      "\t2. SignUp\n",
      "\t3. Exit\n",
      " \n",
      "Choose from above options : 3\n",
      "\n",
      "\t Thanks for paying a visit!\n",
      "\t Have a good day sir!\n"
     ]
    }
   ],
   "source": [
    "## libraries included\n",
    "from random import randint\n",
    "import json\n",
    "\n",
    "print(\"Welcome!\".center(40,'*'))\n",
    "\n",
    "##Functioning\n",
    "\n",
    "while True :\n",
    "    print(\"\\n\\t1. Login \\n\\t2. SignUp\\n\\t3. Exit\\n \")\n",
    "    choice=int(input(\"Choose from above options : \"))\n",
    "    \n",
    "    if choice==1 :      ## Login Section\n",
    "        userAccountNumber=input(\"Enter Your Account Number : \")\n",
    "        userLoginPassword=input(\"Enter Your Password : \")\n",
    "        fp=open('./bank_app/data.txt','r')\n",
    "        d=json.load(fp)\n",
    "        \n",
    "        if userAccountNumber in d.keys() and userLoginPassword == d[userAccountNumber]['password'] :\n",
    "            ## If user enter the details correctly only then proceed further\n",
    "            ## now we can provide other Facility like credit , debit , check balance\n",
    "           \n",
    "            print('\\t1. Credit\\n\\t2. Debit\\n\\t3. Check Balance\\n')\n",
    "            res=int(input('Enter Your Choice : '))\n",
    "            \n",
    "            if res==1 :  ## Credit Money To Account\n",
    "                addBalance=int(input('Enter The amount you want to add : '))\n",
    "                d[userAccountNumber]['balance']=d[userAccountNumber]['balance']+addBalance\n",
    "                print(f\"Your Updated Balance is : {d[userAccountNumber]['balance']} \")\n",
    "                \n",
    "           \n",
    "            elif res==2 : ## Debit Money from Account\n",
    "                withdrawBalance=int(input('Enter the ammount you want to Withdraw'))\n",
    "                d[userAccountNumber]['balance']=d[userAccountNumber]['balance']-withdrawBalance\n",
    "                print(f'Remaining balance is : ',d[userAccountNumber]['balance'])\n",
    "            \n",
    "            \n",
    "            elif res==3 :  ## Check balance\n",
    "                print(d[userAccountNumber]['Name']+\" Your Account Balance Is : \"+str(d[userAccountNumber]['balance']))\n",
    "            \n",
    "            \n",
    "            else :\n",
    "                print(\"\\n\\tSorry! You have entered wrong key\")\n",
    "        \n",
    "        else : ## if Invalid Username and Password\n",
    "            print(\"\\n\\tInvalid Username and Password\")\n",
    "        fp.close()\n",
    "    \n",
    "    elif choice==2 :  ## SignUP\n",
    "        print(\"\\n\\tHello Sir!\")\n",
    "        accountHolder=input(\"Please Enter Your Name : \").title()\n",
    "        accountPassword=input('Enter a password : ')\n",
    "        accountNumber=randint(1942000100,1942000999)\n",
    "        newDict={f\"{accountNumber}\":{'Name':accountHolder, 'password':accountPassword, 'balance':0}}\n",
    "        fp=open('./bank_app/data.txt','r')\n",
    "        database=json.load(fp)\n",
    "        fp.close()\n",
    "        database.update(newDict)\n",
    "        print(f\"\\nCongrats! Your Account has been Opened\\n  Your Name is : {accountHolder}\\n  Your Account Number is : {accountNumber}\")\n",
    "        fp=open('./bank_app/data.txt','w')\n",
    "        json.dump(database,fp)\n",
    "        fp.close()\n",
    "        \n",
    "    else :\n",
    "        print(\"\\n\\t Thanks for paying a visit!\\n\\t Have a good day sir!\")\n",
    "        break"
   ]
  },
  {
   "cell_type": "code",
   "execution_count": 14,
   "metadata": {},
   "outputs": [
    {
     "data": {
      "text/plain": [
       "{1942000100: {'Name': 'John', 'balance': 20000, 'password': 'john@123'},\n",
       " 1942000101: {'Name': 'Mohan', 'balance': 25000, 'password': 'aashk@123'}}"
      ]
     },
     "execution_count": 14,
     "metadata": {},
     "output_type": "execute_result"
    }
   ],
   "source": [
    "from random import randint\n",
    "database\n"
   ]
  },
  {
   "cell_type": "code",
   "execution_count": 3,
   "metadata": {},
   "outputs": [],
   "source": [
    "import os\n",
    "os.mkdir(\"bank_app\")"
   ]
  },
  {
   "cell_type": "code",
   "execution_count": 5,
   "metadata": {},
   "outputs": [],
   "source": [
    "os.chdir(\"./bank_app\")"
   ]
  },
  {
   "cell_type": "code",
   "execution_count": 6,
   "metadata": {},
   "outputs": [
    {
     "data": {
      "text/plain": [
       "'C:\\\\Users\\\\Pradeep Sharma\\\\Desktop\\\\Summer Internship\\\\batch 10 am\\\\bank_app'"
      ]
     },
     "execution_count": 6,
     "metadata": {},
     "output_type": "execute_result"
    }
   ],
   "source": [
    "pwd"
   ]
  },
  {
   "cell_type": "code",
   "execution_count": 45,
   "metadata": {},
   "outputs": [
    {
     "name": "stdout",
     "output_type": "stream",
     "text": [
      "<class 'dict'>\n",
      "{1942000100: {'name': 'Pradeep', 'balance': 20000, 'password': 'pradeep@123'}}\n"
     ]
    }
   ],
   "source": [
    "data={\n",
    "    1942000100:{'name':'Pradeep','balance':20000,'password':'pradeep@123'}\n",
    "}\n",
    "print(type(data))\n",
    "print(data)"
   ]
  },
  {
   "cell_type": "code",
   "execution_count": 2,
   "metadata": {},
   "outputs": [
    {
     "ename": "NameError",
     "evalue": "name 'data' is not defined",
     "output_type": "error",
     "traceback": [
      "\u001b[1;31m---------------------------------------------------------------------------\u001b[0m",
      "\u001b[1;31mNameError\u001b[0m                                 Traceback (most recent call last)",
      "\u001b[1;32m<ipython-input-2-9116ff1c7058>\u001b[0m in \u001b[0;36m<module>\u001b[1;34m()\u001b[0m\n\u001b[0;32m      1\u001b[0m \u001b[1;32mimport\u001b[0m \u001b[0mjson\u001b[0m\u001b[1;33m\u001b[0m\u001b[0m\n\u001b[0;32m      2\u001b[0m \u001b[0mfp\u001b[0m\u001b[1;33m=\u001b[0m\u001b[0mopen\u001b[0m\u001b[1;33m(\u001b[0m\u001b[1;34m'data.txt'\u001b[0m\u001b[1;33m,\u001b[0m\u001b[1;34m'w'\u001b[0m\u001b[1;33m)\u001b[0m\u001b[1;33m\u001b[0m\u001b[0m\n\u001b[1;32m----> 3\u001b[1;33m \u001b[0mjson\u001b[0m\u001b[1;33m.\u001b[0m\u001b[0mdump\u001b[0m\u001b[1;33m(\u001b[0m\u001b[0mdata\u001b[0m\u001b[1;33m,\u001b[0m\u001b[0mfp\u001b[0m\u001b[1;33m)\u001b[0m\u001b[1;33m\u001b[0m\u001b[0m\n\u001b[0m\u001b[0;32m      4\u001b[0m \u001b[0mfp\u001b[0m\u001b[1;33m.\u001b[0m\u001b[0mclose\u001b[0m\u001b[1;33m(\u001b[0m\u001b[1;33m)\u001b[0m\u001b[1;33m\u001b[0m\u001b[0m\n",
      "\u001b[1;31mNameError\u001b[0m: name 'data' is not defined"
     ]
    }
   ],
   "source": [
    "import json\n",
    "fp=open('data.txt','w')\n",
    "json.dump(data,fp)\n",
    "fp.close()"
   ]
  },
  {
   "cell_type": "code",
   "execution_count": 4,
   "metadata": {},
   "outputs": [
    {
     "ename": "JSONDecodeError",
     "evalue": "Expecting value: line 1 column 1 (char 0)",
     "output_type": "error",
     "traceback": [
      "\u001b[1;31m---------------------------------------------------------------------------\u001b[0m",
      "\u001b[1;31mJSONDecodeError\u001b[0m                           Traceback (most recent call last)",
      "\u001b[1;32m<ipython-input-4-0261b035a1e9>\u001b[0m in \u001b[0;36m<module>\u001b[1;34m()\u001b[0m\n\u001b[0;32m      1\u001b[0m \u001b[0mfp\u001b[0m\u001b[1;33m=\u001b[0m\u001b[0mopen\u001b[0m\u001b[1;33m(\u001b[0m\u001b[1;34m'data.txt'\u001b[0m\u001b[1;33m)\u001b[0m\u001b[1;33m\u001b[0m\u001b[0m\n\u001b[1;32m----> 2\u001b[1;33m \u001b[0md\u001b[0m\u001b[1;33m=\u001b[0m\u001b[0mjson\u001b[0m\u001b[1;33m.\u001b[0m\u001b[0mload\u001b[0m\u001b[1;33m(\u001b[0m\u001b[0mfp\u001b[0m\u001b[1;33m)\u001b[0m\u001b[1;33m\u001b[0m\u001b[0m\n\u001b[0m\u001b[0;32m      3\u001b[0m \u001b[0mprint\u001b[0m\u001b[1;33m(\u001b[0m\u001b[0md\u001b[0m\u001b[1;33m)\u001b[0m\u001b[1;33m\u001b[0m\u001b[0m\n\u001b[0;32m      4\u001b[0m \u001b[0mfp\u001b[0m\u001b[1;33m.\u001b[0m\u001b[0mclose\u001b[0m\u001b[1;33m(\u001b[0m\u001b[1;33m)\u001b[0m\u001b[1;33m\u001b[0m\u001b[0m\n",
      "\u001b[1;32mC:\\ProgramData\\Anaconda3\\lib\\json\\__init__.py\u001b[0m in \u001b[0;36mload\u001b[1;34m(fp, cls, object_hook, parse_float, parse_int, parse_constant, object_pairs_hook, **kw)\u001b[0m\n\u001b[0;32m    297\u001b[0m         \u001b[0mcls\u001b[0m\u001b[1;33m=\u001b[0m\u001b[0mcls\u001b[0m\u001b[1;33m,\u001b[0m \u001b[0mobject_hook\u001b[0m\u001b[1;33m=\u001b[0m\u001b[0mobject_hook\u001b[0m\u001b[1;33m,\u001b[0m\u001b[1;33m\u001b[0m\u001b[0m\n\u001b[0;32m    298\u001b[0m         \u001b[0mparse_float\u001b[0m\u001b[1;33m=\u001b[0m\u001b[0mparse_float\u001b[0m\u001b[1;33m,\u001b[0m \u001b[0mparse_int\u001b[0m\u001b[1;33m=\u001b[0m\u001b[0mparse_int\u001b[0m\u001b[1;33m,\u001b[0m\u001b[1;33m\u001b[0m\u001b[0m\n\u001b[1;32m--> 299\u001b[1;33m         parse_constant=parse_constant, object_pairs_hook=object_pairs_hook, **kw)\n\u001b[0m\u001b[0;32m    300\u001b[0m \u001b[1;33m\u001b[0m\u001b[0m\n\u001b[0;32m    301\u001b[0m \u001b[1;33m\u001b[0m\u001b[0m\n",
      "\u001b[1;32mC:\\ProgramData\\Anaconda3\\lib\\json\\__init__.py\u001b[0m in \u001b[0;36mloads\u001b[1;34m(s, encoding, cls, object_hook, parse_float, parse_int, parse_constant, object_pairs_hook, **kw)\u001b[0m\n\u001b[0;32m    352\u001b[0m             \u001b[0mparse_int\u001b[0m \u001b[1;32mis\u001b[0m \u001b[1;32mNone\u001b[0m \u001b[1;32mand\u001b[0m \u001b[0mparse_float\u001b[0m \u001b[1;32mis\u001b[0m \u001b[1;32mNone\u001b[0m \u001b[1;32mand\u001b[0m\u001b[1;33m\u001b[0m\u001b[0m\n\u001b[0;32m    353\u001b[0m             parse_constant is None and object_pairs_hook is None and not kw):\n\u001b[1;32m--> 354\u001b[1;33m         \u001b[1;32mreturn\u001b[0m \u001b[0m_default_decoder\u001b[0m\u001b[1;33m.\u001b[0m\u001b[0mdecode\u001b[0m\u001b[1;33m(\u001b[0m\u001b[0ms\u001b[0m\u001b[1;33m)\u001b[0m\u001b[1;33m\u001b[0m\u001b[0m\n\u001b[0m\u001b[0;32m    355\u001b[0m     \u001b[1;32mif\u001b[0m \u001b[0mcls\u001b[0m \u001b[1;32mis\u001b[0m \u001b[1;32mNone\u001b[0m\u001b[1;33m:\u001b[0m\u001b[1;33m\u001b[0m\u001b[0m\n\u001b[0;32m    356\u001b[0m         \u001b[0mcls\u001b[0m \u001b[1;33m=\u001b[0m \u001b[0mJSONDecoder\u001b[0m\u001b[1;33m\u001b[0m\u001b[0m\n",
      "\u001b[1;32mC:\\ProgramData\\Anaconda3\\lib\\json\\decoder.py\u001b[0m in \u001b[0;36mdecode\u001b[1;34m(self, s, _w)\u001b[0m\n\u001b[0;32m    337\u001b[0m \u001b[1;33m\u001b[0m\u001b[0m\n\u001b[0;32m    338\u001b[0m         \"\"\"\n\u001b[1;32m--> 339\u001b[1;33m         \u001b[0mobj\u001b[0m\u001b[1;33m,\u001b[0m \u001b[0mend\u001b[0m \u001b[1;33m=\u001b[0m \u001b[0mself\u001b[0m\u001b[1;33m.\u001b[0m\u001b[0mraw_decode\u001b[0m\u001b[1;33m(\u001b[0m\u001b[0ms\u001b[0m\u001b[1;33m,\u001b[0m \u001b[0midx\u001b[0m\u001b[1;33m=\u001b[0m\u001b[0m_w\u001b[0m\u001b[1;33m(\u001b[0m\u001b[0ms\u001b[0m\u001b[1;33m,\u001b[0m \u001b[1;36m0\u001b[0m\u001b[1;33m)\u001b[0m\u001b[1;33m.\u001b[0m\u001b[0mend\u001b[0m\u001b[1;33m(\u001b[0m\u001b[1;33m)\u001b[0m\u001b[1;33m)\u001b[0m\u001b[1;33m\u001b[0m\u001b[0m\n\u001b[0m\u001b[0;32m    340\u001b[0m         \u001b[0mend\u001b[0m \u001b[1;33m=\u001b[0m \u001b[0m_w\u001b[0m\u001b[1;33m(\u001b[0m\u001b[0ms\u001b[0m\u001b[1;33m,\u001b[0m \u001b[0mend\u001b[0m\u001b[1;33m)\u001b[0m\u001b[1;33m.\u001b[0m\u001b[0mend\u001b[0m\u001b[1;33m(\u001b[0m\u001b[1;33m)\u001b[0m\u001b[1;33m\u001b[0m\u001b[0m\n\u001b[0;32m    341\u001b[0m         \u001b[1;32mif\u001b[0m \u001b[0mend\u001b[0m \u001b[1;33m!=\u001b[0m \u001b[0mlen\u001b[0m\u001b[1;33m(\u001b[0m\u001b[0ms\u001b[0m\u001b[1;33m)\u001b[0m\u001b[1;33m:\u001b[0m\u001b[1;33m\u001b[0m\u001b[0m\n",
      "\u001b[1;32mC:\\ProgramData\\Anaconda3\\lib\\json\\decoder.py\u001b[0m in \u001b[0;36mraw_decode\u001b[1;34m(self, s, idx)\u001b[0m\n\u001b[0;32m    355\u001b[0m             \u001b[0mobj\u001b[0m\u001b[1;33m,\u001b[0m \u001b[0mend\u001b[0m \u001b[1;33m=\u001b[0m \u001b[0mself\u001b[0m\u001b[1;33m.\u001b[0m\u001b[0mscan_once\u001b[0m\u001b[1;33m(\u001b[0m\u001b[0ms\u001b[0m\u001b[1;33m,\u001b[0m \u001b[0midx\u001b[0m\u001b[1;33m)\u001b[0m\u001b[1;33m\u001b[0m\u001b[0m\n\u001b[0;32m    356\u001b[0m         \u001b[1;32mexcept\u001b[0m \u001b[0mStopIteration\u001b[0m \u001b[1;32mas\u001b[0m \u001b[0merr\u001b[0m\u001b[1;33m:\u001b[0m\u001b[1;33m\u001b[0m\u001b[0m\n\u001b[1;32m--> 357\u001b[1;33m             \u001b[1;32mraise\u001b[0m \u001b[0mJSONDecodeError\u001b[0m\u001b[1;33m(\u001b[0m\u001b[1;34m\"Expecting value\"\u001b[0m\u001b[1;33m,\u001b[0m \u001b[0ms\u001b[0m\u001b[1;33m,\u001b[0m \u001b[0merr\u001b[0m\u001b[1;33m.\u001b[0m\u001b[0mvalue\u001b[0m\u001b[1;33m)\u001b[0m \u001b[1;32mfrom\u001b[0m \u001b[1;32mNone\u001b[0m\u001b[1;33m\u001b[0m\u001b[0m\n\u001b[0m\u001b[0;32m    358\u001b[0m         \u001b[1;32mreturn\u001b[0m \u001b[0mobj\u001b[0m\u001b[1;33m,\u001b[0m \u001b[0mend\u001b[0m\u001b[1;33m\u001b[0m\u001b[0m\n",
      "\u001b[1;31mJSONDecodeError\u001b[0m: Expecting value: line 1 column 1 (char 0)"
     ]
    }
   ],
   "source": [
    "fp=open('data.txt')\n",
    "d=json.load(fp)\n",
    "print(d)\n",
    "fp.close()"
   ]
  },
  {
   "cell_type": "code",
   "execution_count": 53,
   "metadata": {},
   "outputs": [
    {
     "name": "stdout",
     "output_type": "stream",
     "text": [
      "enter account number : 1942000100\n",
      "True\n"
     ]
    }
   ],
   "source": [
    "acc_no =input('enter account number : ')\n",
    "if acc_no in d.keys() :\n",
    "    print(\"True\")\n",
    "else : \n",
    "    print(\"False\")"
   ]
  },
  {
   "cell_type": "code",
   "execution_count": 9,
   "metadata": {},
   "outputs": [],
   "source": [
    "import json\n",
    "from random import randint\n",
    "database={1942000100:{'Name':'John', 'password':'john@123','balance':20000},\n",
    "          1942000101:{'Name':'Mohan', 'password':'aashk@123', 'balance':25000}\n",
    "         }\n",
    "fp=open('./bank_app/data.txt','w')\n",
    "json.dump(database,fp)\n",
    "fp.close()"
   ]
  },
  {
   "cell_type": "code",
   "execution_count": 61,
   "metadata": {},
   "outputs": [
    {
     "name": "stdout",
     "output_type": "stream",
     "text": [
      "Please Enter Your Name : Pradeep\n",
      "Enter a password : pradeep@123\n"
     ]
    }
   ],
   "source": [
    "accountHolder=input(\"Please Enter Your Name : \").title()\n",
    "accountPassword=input('Enter a password : ')\n",
    "accountNumber=randint(1942000100,1942000999)\n",
    "newDict={f\"{accountNumber}\":{'Name':accountHolder, 'password':accountPassword, 'balance':2000}}\n",
    "database.update(newDict) \n",
    "fp=open('data.txt','w')\n",
    "json.dump(database,fp)\n",
    "fp.close()"
   ]
  },
  {
   "cell_type": "code",
   "execution_count": 62,
   "metadata": {},
   "outputs": [
    {
     "name": "stdout",
     "output_type": "stream",
     "text": [
      "<class 'dict'>\n",
      "{'1942000100': {'Name': 'John', 'password': 'john@123', 'balance': 20000}, '1942000101': {'Name': 'Mohan', 'password': 'aashk@123', 'balance': 25000}, '1942000401': {'Name': 'Pradeep', 'password': 'pradeep@123', 'balance': 2000}}\n"
     ]
    }
   ],
   "source": [
    "fp=open('data.txt','r')\n",
    "d=json.load(fp)\n",
    "print(type(d))\n",
    "print(d)"
   ]
  },
  {
   "cell_type": "code",
   "execution_count": 65,
   "metadata": {},
   "outputs": [
    {
     "name": "stdout",
     "output_type": "stream",
     "text": [
      "enter account number : 1942000401\n",
      "accountno. exist\n"
     ]
    }
   ],
   "source": [
    "def check(acc_no) :\n",
    "    fp=open('data.txt','r')\n",
    "    d=json.load(fp)\n",
    "    if str(acc_no) in d.keys() :\n",
    "        print('accountno. exist')\n",
    "    else :\n",
    "        print('No such user exist')\n",
    "user_acc=int(input('enter account number : '))\n",
    "check(user_acc)"
   ]
  },
  {
   "cell_type": "code",
   "execution_count": 67,
   "metadata": {},
   "outputs": [
    {
     "name": "stdout",
     "output_type": "stream",
     "text": [
      "{'1942000100': {'Name': 'John', 'password': 'john@123', 'balance': 20000}, '1942000101': {'Name': 'Mohan', 'password': 'aashk@123', 'balance': 25000}, '1942000401': {'Name': 'Pradeep', 'password': 'pradeep@123', 'balance': 2000}}\n"
     ]
    }
   ],
   "source": [
    "fp=open('data.txt','r')\n",
    "d=json.load(fp)\n",
    "print(d)"
   ]
  },
  {
   "cell_type": "code",
   "execution_count": 69,
   "metadata": {},
   "outputs": [
    {
     "name": "stdout",
     "output_type": "stream",
     "text": [
      "access granted\n"
     ]
    }
   ],
   "source": [
    "if str(1942000100) in d.keys() and 'john@123'==d['1942000100']['password'] :\n",
    "    print('access granted')\n",
    "else :\n",
    "    print('Invalid username and password')"
   ]
  },
  {
   "cell_type": "code",
   "execution_count": 12,
   "metadata": {},
   "outputs": [
    {
     "name": "stdout",
     "output_type": "stream",
     "text": [
      "Please Enter Your Name : Piyush\n",
      "Enter a password : piyush@123\n",
      "Congrats! Your Account has been Opened\n",
      "  Your Name is : Piyush\n",
      "  Your Account Number is : 1942000949\n"
     ]
    }
   ],
   "source": [
    "accountHolder=input(\"Please Enter Your Name : \").title()\n",
    "accountPassword=input('Enter a password : ')\n",
    "accountNumber=randint(1942000100,1942000999)\n",
    "newDict={f\"{accountNumber}\":{'Name':accountHolder, 'password':accountPassword, 'balance':2000}}\n",
    "fp=open('./bank_app/data.txt','r')\n",
    "database=json.load(fp)\n",
    "fp.close()\n",
    "database.update(newDict)\n",
    "print(f\"Congrats! Your Account has been Opened\\n  Your Name is : {accountHolder}\\n  Your Account Number is : {accountNumber}\")\n",
    "fp=open('./bank_app/data.txt','w')\n",
    "json.dump(database,fp)\n",
    "fp.close()"
   ]
  },
  {
   "cell_type": "code",
   "execution_count": 5,
   "metadata": {},
   "outputs": [],
   "source": [
    "fp.close()"
   ]
  },
  {
   "cell_type": "code",
   "execution_count": null,
   "metadata": {},
   "outputs": [],
   "source": []
  }
 ],
 "metadata": {
  "kernelspec": {
   "display_name": "Python 3",
   "language": "python",
   "name": "python3"
  }
 },
 "nbformat": 4,
 "nbformat_minor": 2
}
