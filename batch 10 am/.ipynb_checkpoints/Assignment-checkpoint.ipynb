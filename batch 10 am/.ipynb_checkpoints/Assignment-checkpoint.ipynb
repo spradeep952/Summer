{
 "cells": [
  {
   "cell_type": "markdown",
   "metadata": {},
   "source": [
    "## Creating 5 Databases"
   ]
  },
  {
   "cell_type": "markdown",
   "metadata": {},
   "source": [
    "## 1.  Indian top 5 players record in IPL"
   ]
  },
  {
   "cell_type": "code",
   "execution_count": 1,
   "metadata": {},
   "outputs": [],
   "source": [
    "player_info ={\n",
    "              'Rohit Sharma':{'team':'Mumbai','runs':4898,'matches':188},\n",
    "              'Virat Kohli':{'team':'Bangalore','runs':5412,'matches':177},\n",
    "              'Mahendra Singh Dhoni':{'team':'Chennai','runs':4432,'matches':190},\n",
    "              'Suresh Raina':{'team':'Chennai','runs':5368,'matches':193},\n",
    "              'Shikhar Dhawan':{'team':'Delhi','runs':4579,'matches':159},\n",
    "}\n",
    "         "
   ]
  },
  {
   "cell_type": "code",
   "execution_count": 2,
   "metadata": {},
   "outputs": [
    {
     "data": {
      "text/plain": [
       "{'matches': 188, 'runs': 4898, 'team': 'Mumbai'}"
      ]
     },
     "execution_count": 2,
     "metadata": {},
     "output_type": "execute_result"
    }
   ],
   "source": [
    "player_info.get('Rohit Sharma')"
   ]
  },
  {
   "cell_type": "code",
   "execution_count": 3,
   "metadata": {},
   "outputs": [
    {
     "data": {
      "text/plain": [
       "'no data available'"
      ]
     },
     "execution_count": 3,
     "metadata": {},
     "output_type": "execute_result"
    }
   ],
   "source": [
    "player_info.get('Dinesh Kartik','no data available')\n"
   ]
  },
  {
   "cell_type": "code",
   "execution_count": 4,
   "metadata": {},
   "outputs": [
    {
     "name": "stdout",
     "output_type": "stream",
     "text": [
      "Enter the name of playerRohit Sharma\n",
      "{'team': 'Mumbai', 'runs': 4898, 'matches': 188}\n"
     ]
    }
   ],
   "source": [
    "name=input('Enter the name of player').strip().title()\n",
    "data=player_info.get(name,'No data available')\n",
    "print(data)"
   ]
  },
  {
   "cell_type": "code",
   "execution_count": 30,
   "metadata": {},
   "outputs": [
    {
     "name": "stdout",
     "output_type": "stream",
     "text": [
      "['__class__', '__contains__', '__delattr__', '__delitem__', '__dir__', '__doc__', '__eq__', '__format__', '__ge__', '__getattribute__', '__getitem__', '__gt__', '__hash__', '__init__', '__init_subclass__', '__iter__', '__le__', '__len__', '__lt__', '__ne__', '__new__', '__reduce__', '__reduce_ex__', '__repr__', '__setattr__', '__setitem__', '__sizeof__', '__str__', '__subclasshook__', 'clear', 'copy', 'fromkeys', 'get', 'items', 'keys', 'pop', 'popitem', 'setdefault', 'update', 'values']\n"
     ]
    }
   ],
   "source": [
    "print(dir(dict))"
   ]
  },
  {
   "cell_type": "code",
   "execution_count": 5,
   "metadata": {},
   "outputs": [
    {
     "name": "stdout",
     "output_type": "stream",
     "text": [
      "dict_keys(['Rohit Sharma', 'Virat Kohli', 'Mahendra Singh Dhoni', 'Suresh Raina', 'Shikhar Dhawan'])\n"
     ]
    }
   ],
   "source": [
    "keys=player_info.keys()\n",
    "print(keys)"
   ]
  },
  {
   "cell_type": "markdown",
   "metadata": {},
   "source": [
    "## 2.  library management system"
   ]
  },
  {
   "cell_type": "code",
   "execution_count": 12,
   "metadata": {},
   "outputs": [],
   "source": [
    "library={\n",
    "               'Maths':{'issue_day':'monday','author':'abc','id':123},\n",
    "               'Chemistry':{'issue_day':'wednesday','author':'xyz','id':124},\n",
    "               'Physics':{'issue_day':'friday','author':'pqr','id':125},\n",
    "}"
   ]
  },
  {
   "cell_type": "code",
   "execution_count": 16,
   "metadata": {},
   "outputs": [
    {
     "data": {
      "text/plain": [
       "{'author': 'abc', 'id': 123, 'issue_day': 'monday'}"
      ]
     },
     "execution_count": 16,
     "metadata": {},
     "output_type": "execute_result"
    }
   ],
   "source": [
    "library.get('Maths')"
   ]
  },
  {
   "cell_type": "code",
   "execution_count": 23,
   "metadata": {},
   "outputs": [
    {
     "name": "stdout",
     "output_type": "stream",
     "text": [
      "enter name of book : chemistry\n",
      "{'issue_day': 'wednesday', 'author': 'xyz', 'id': 124}\n"
     ]
    }
   ],
   "source": [
    "name=input('enter name of book : ').strip().title()\n",
    "print(library.get(name,'No book Available'))"
   ]
  },
  {
   "cell_type": "code",
   "execution_count": 19,
   "metadata": {},
   "outputs": [],
   "source": [
    "library.update(English={'issue_day':'tuesday','author':'lmn','id':126})"
   ]
  },
  {
   "cell_type": "code",
   "execution_count": 20,
   "metadata": {},
   "outputs": [
    {
     "name": "stdout",
     "output_type": "stream",
     "text": [
      "{'Maths': {'issue_day': 'monday', 'author': 'abc', 'id': 123}, 'Chemistry': {'issue_day': 'wednesday', 'author': 'xyz', 'id': 124}, 'Physics': {'issue_day': 'friday', 'author': 'pqr', 'id': 125}, 'English': {'issue_day': 'tuesday', 'author': 'lmn', 'id': 126}}\n"
     ]
    }
   ],
   "source": [
    "print(library)"
   ]
  },
  {
   "cell_type": "code",
   "execution_count": 22,
   "metadata": {},
   "outputs": [
    {
     "data": {
      "text/plain": [
       "{'author': 'lmn', 'id': 126, 'issue_day': 'tuesday'}"
      ]
     },
     "execution_count": 22,
     "metadata": {},
     "output_type": "execute_result"
    }
   ],
   "source": [
    "library.get('English')"
   ]
  },
  {
   "cell_type": "code",
   "execution_count": 24,
   "metadata": {},
   "outputs": [
    {
     "data": {
      "text/plain": [
       "'No book available'"
      ]
     },
     "execution_count": 24,
     "metadata": {},
     "output_type": "execute_result"
    }
   ],
   "source": [
    "library.get('hindi','No book available')"
   ]
  },
  {
   "cell_type": "code",
   "execution_count": 33,
   "metadata": {},
   "outputs": [
    {
     "name": "stdout",
     "output_type": "stream",
     "text": [
      "enter book name : maths\n",
      "dict_values(['monday', 'abc', 123])\n"
     ]
    }
   ],
   "source": [
    "## to create a list about a book\n",
    "name=input('enter book name : ').strip().title()\n",
    "print((dict(library.get(name))).values())"
   ]
  },
  {
   "cell_type": "markdown",
   "metadata": {},
   "source": [
    "## 3.  Shopping System\n"
   ]
  },
  {
   "cell_type": "code",
   "execution_count": 2,
   "metadata": {},
   "outputs": [],
   "source": [
    "items={\n",
    "    'Shoes':[5000,'Puma','Big Bazar'],\n",
    "    'Jean':[2500,'Wrangler','Gourav Tower'],\n",
    "    'Shirt':[2000,'Mufti','Lifestyle']\n",
    "}"
   ]
  },
  {
   "cell_type": "code",
   "execution_count": 3,
   "metadata": {},
   "outputs": [
    {
     "name": "stdout",
     "output_type": "stream",
     "text": [
      "{'Shoes': [5000, 'Puma', 'Big Bazar'], 'Jean': [2500, 'Wrangler', 'Gourav Tower'], 'Shirt': [2000, 'Mufti', 'Lifestyle']}\n"
     ]
    }
   ],
   "source": [
    "print(items)"
   ]
  },
  {
   "cell_type": "code",
   "execution_count": 4,
   "metadata": {},
   "outputs": [
    {
     "data": {
      "text/plain": [
       "[2500, 'Wrangler', 'Gourav Tower']"
      ]
     },
     "execution_count": 4,
     "metadata": {},
     "output_type": "execute_result"
    }
   ],
   "source": [
    "items.get('Jean')"
   ]
  },
  {
   "cell_type": "code",
   "execution_count": 5,
   "metadata": {},
   "outputs": [
    {
     "name": "stdout",
     "output_type": "stream",
     "text": [
      "2000\n"
     ]
    }
   ],
   "source": [
    "d=items.get('Shirt')\n",
    "print(d[0])"
   ]
  },
  {
   "cell_type": "code",
   "execution_count": 6,
   "metadata": {},
   "outputs": [
    {
     "name": "stdout",
     "output_type": "stream",
     "text": [
      "enter item name : jean\n",
      "enter what detail you want to know like price, brand, store : price\n",
      "2500\n"
     ]
    }
   ],
   "source": [
    "item=input('enter item name : ').strip().title()\n",
    "value=input('enter what detail you want to know like price, brand, store : ')\n",
    "if value=='price' :\n",
    "    d=items.get(item)\n",
    "    print(d[0])\n",
    "elif value=='brand' :\n",
    "    d=items.get(item)\n",
    "    print(d[1])\n",
    "elif value=='store' :\n",
    "    d=items.get(item)\n",
    "    print(d[2])\n",
    "else :\n",
    "    print('you entered wrong information')"
   ]
  },
  {
   "cell_type": "code",
   "execution_count": null,
   "metadata": {},
   "outputs": [],
   "source": []
  }
 ],
 "metadata": {
  "kernelspec": {
   "display_name": "Python 3",
   "language": "python",
   "name": "python3"
  },
  "language_info": {
   "codemirror_mode": {
    "name": "ipython",
    "version": 3
   },
   "file_extension": ".py",
   "mimetype": "text/x-python",
   "name": "python",
   "nbconvert_exporter": "python",
   "pygments_lexer": "ipython3",
   "version": "3.6.4"
  }
 },
 "nbformat": 4,
 "nbformat_minor": 2
}
