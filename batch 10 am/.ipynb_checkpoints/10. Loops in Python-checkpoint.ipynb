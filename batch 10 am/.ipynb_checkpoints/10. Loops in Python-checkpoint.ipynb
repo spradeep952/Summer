{
 "cells": [
  {
   "cell_type": "markdown",
   "metadata": {},
   "source": [
    "## Loops "
   ]
  },
  {
   "cell_type": "code",
   "execution_count": 11,
   "metadata": {},
   "outputs": [
    {
     "name": "stdout",
     "output_type": "stream",
     "text": [
      "1\t1\t1\n",
      "2\t4\t8\n",
      "3\t9\t27\n",
      "4\t16\t64\n",
      "5\t25\t125\n",
      "6\t36\t216\n",
      "7\t49\t343\n",
      "8\t64\t512\n",
      "9\t81\t729\n",
      "10\t100\t1000\n"
     ]
    }
   ],
   "source": [
    "num=1\n",
    "while num<=10 :\n",
    "    print(num,num**2,num**3,sep='\\t',end='\\n')\n",
    "    num += 1"
   ]
  },
  {
   "cell_type": "code",
   "execution_count": 17,
   "metadata": {},
   "outputs": [
    {
     "name": "stdout",
     "output_type": "stream",
     "text": [
      "enter a number : 5\n",
      "    0\t+    5\t=    5\n",
      "    5\t+    5\t=   10\n",
      "   10\t+    5\t=   15\n",
      "   15\t+    5\t=   20\n",
      "   20\t+    5\t=   25\n",
      "   25\t+    5\t=   30\n",
      "   30\t+    5\t=   35\n",
      "   35\t+    5\t=   40\n",
      "   40\t+    5\t=   45\n",
      "   45\t+    5\t=   50\n"
     ]
    }
   ],
   "source": [
    "num=int(input('enter a number : '))\n",
    "var=1\n",
    "new=0\n",
    "while var<=10 :\n",
    "    print(f\"{new:5}\\t+{num:>5}\\t={new+num:5}\")\n",
    "    new=new+5\n",
    "    var +=1"
   ]
  },
  {
   "cell_type": "code",
   "execution_count": 24,
   "metadata": {},
   "outputs": [
    {
     "name": "stdout",
     "output_type": "stream",
     "text": [
      "99\t97\t95\t93\t91\t89\t87\t85\t83\t81\t79\t77\t75\t73\t71\t69\t67\t65\t63\t61\t59\t57\t55\t53\t51\t49\t47\t45\t43\t41\t39\t37\t35\t33\t31\t29\t27\t25\t23\t21\t19\t17\t15\t13\t11\t9\t7\t5\t3\t1\t"
     ]
    }
   ],
   "source": [
    "## print odd num in reverse order till 100\n",
    "var=99\n",
    "while var>=1 :\n",
    "    if var%2 !=0 :\n",
    "        print(var,end='\\t')\n",
    "    var=var-1"
   ]
  },
  {
   "cell_type": "code",
   "execution_count": 29,
   "metadata": {},
   "outputs": [
    {
     "name": "stdout",
     "output_type": "stream",
     "text": [
      "5\n",
      "7\n",
      "10\n",
      "14\n",
      "15\n",
      "20\n",
      "21\n",
      "25\n",
      "28\n",
      "30\n",
      "35\n",
      "40\n",
      "42\n",
      "45\n",
      "49\n",
      "50\n",
      "55\n",
      "56\n",
      "60\n",
      "63\n",
      "65\n",
      "70\n",
      "75\n",
      "77\n",
      "80\n",
      "84\n",
      "85\n",
      "90\n",
      "91\n",
      "95\n",
      "98\n",
      "100\n"
     ]
    }
   ],
   "source": [
    "## print whole numbers btween 1 to 100 which are divisible by 5 and 7\n",
    "var=1\n",
    "while var<=100 :\n",
    "    if var%5==0 and var%7==0 :\n",
    "        print(var)\n",
    "    var +=1"
   ]
  },
  {
   "cell_type": "code",
   "execution_count": 10,
   "metadata": {},
   "outputs": [
    {
     "name": "stdout",
     "output_type": "stream",
     "text": [
      "45\t22\t67\t9\t98\t77\t59\t37\t65\t36\t\n",
      "10 random integers printed\n"
     ]
    }
   ],
   "source": [
    "from random import randint\n",
    "c=1\n",
    "while c<=10 :\n",
    "    print(randint(1,100),end=\"\\t\")\n",
    "    c=c+1\n",
    "else :\n",
    "    print('\\n10 random integers printed')"
   ]
  },
  {
   "cell_type": "code",
   "execution_count": 2,
   "metadata": {},
   "outputs": [
    {
     "name": "stdout",
     "output_type": "stream",
     "text": [
      "1,  2,  3,  4,  5,  "
     ]
    }
   ],
   "source": [
    "## write a code which loop till 10 but break after 5\n",
    "c=1\n",
    "while c<=10 :\n",
    "    if c<=5 :\n",
    "        print(c,end=\",  \")\n",
    "        c=c+1\n",
    "    else :\n",
    "        break\n",
    "else :\n",
    "    print('break worked after 5')"
   ]
  },
  {
   "cell_type": "code",
   "execution_count": 7,
   "metadata": {},
   "outputs": [
    {
     "name": "stdout",
     "output_type": "stream",
     "text": [
      "entera no. : 5\n",
      "enter a no. : 7\n",
      "enter a no. : 45\n",
      "enter a no. : 49\n",
      "enter a no. : 50\n",
      "the end\n"
     ]
    }
   ],
   "source": [
    "### program\n",
    "num=int(input('enter a no. : '))\n",
    "while num in range(1,50) :\n",
    "    num=int(input('enter a no. : '))\n",
    "else :\n",
    "    print('the end')"
   ]
  },
  {
   "cell_type": "code",
   "execution_count": 1,
   "metadata": {},
   "outputs": [
    {
     "name": "stdout",
     "output_type": "stream",
     "text": [
      "enter a keyf\n",
      "hello world\n",
      "enter a keyt\n",
      "hello world\n",
      "enter a key\n",
      "bye world\n"
     ]
    }
   ],
   "source": [
    "##  program will print hello world till it get any key from user\n",
    "key=input('enter a key')\n",
    "while key :\n",
    "    if key :\n",
    "        print('hello world')\n",
    "        key=input('enter a key')\n",
    "else :\n",
    "    print('bye world')\n"
   ]
  },
  {
   "cell_type": "code",
   "execution_count": 3,
   "metadata": {},
   "outputs": [
    {
     "name": "stdout",
     "output_type": "stream",
     "text": [
      "2\n",
      "4\n",
      "6\n",
      "8\n",
      "10\n",
      "successfully done\n"
     ]
    }
   ],
   "source": [
    "## print all even numbers between 1 to 10 using continue\n",
    "c=1\n",
    "while c<=10 :\n",
    "    if c%2 ==0 :\n",
    "        print(c)\n",
    "    c=c+1\n",
    "    continue\n",
    "else :\n",
    "    print(\"successfully done\")"
   ]
  },
  {
   "cell_type": "code",
   "execution_count": 17,
   "metadata": {},
   "outputs": [
    {
     "name": "stdout",
     "output_type": "stream",
     "text": [
      "guess the number : 45\n",
      "your guess is greater\n",
      "guess the number : 25\n",
      "your guess is greater\n",
      "guess the number : 5\n",
      "your guess is smaller\n",
      "guess the number : 8\n",
      "your guess is greater\n",
      "guess the number : 7\n",
      "congratulations! you won \n"
     ]
    }
   ],
   "source": [
    "###### write a guess game\n",
    "## every player has 5 chances to guess\n",
    "## range is 1 to 50\n",
    "## if guess is right print congratulations and if all 5 chances are wrong print you are a loser\n",
    "## if number is greater than 50 than no chance is reduced \n",
    "\n",
    "from random import randint\n",
    "compGuess=randint(1,50)\n",
    "life=5\n",
    "while life>=1 :\n",
    "    userGuess = int(input('guess the number : '))\n",
    "    if userGuess not in range(1,50):\n",
    "        print('you are out of range')\n",
    "        continue\n",
    "    elif userGuess<d :\n",
    "        print('your guess is smaller')\n",
    "        life =life-1\n",
    "    elif userGuess>d :\n",
    "        print('your guess is greater')\n",
    "        life=life-1\n",
    "    elif userGuess==d :\n",
    "        print('congratulations! you won ')\n",
    "        break\n",
    "else :\n",
    "    print(f'computer guess was : {compGuess}')\n",
    "    print('you are a loser')"
   ]
  },
  {
   "cell_type": "code",
   "execution_count": 22,
   "metadata": {},
   "outputs": [
    {
     "name": "stdout",
     "output_type": "stream",
     "text": [
      "enter a no. : 34\n",
      "  34 |    2 |   17 |    0\n",
      "  34 |    3 |   11 |    1\n",
      "  34 |    4 |    8 |    2\n",
      "  34 |    5 |    6 |    4\n",
      "  34 |    6 |    5 |    4\n",
      "  34 |    7 |    4 |    6\n",
      "  34 |    8 |    4 |    2\n",
      "  34 |    9 |    3 |    7\n",
      "  34 |   10 |    3 |    4\n",
      "  34 |   11 |    3 |    1\n",
      "  34 |   12 |    2 |   10\n",
      "  34 |   13 |    2 |    8\n",
      "  34 |   14 |    2 |    6\n",
      "  34 |   15 |    2 |    4\n",
      "  34 |   16 |    2 |    2\n",
      "  34 |   17 |    2 |    0\n",
      "  34 |   18 |    1 |   16\n",
      "  34 |   19 |    1 |   15\n",
      "  34 |   20 |    1 |   14\n",
      "  34 |   21 |    1 |   13\n",
      "  34 |   22 |    1 |   12\n",
      "  34 |   23 |    1 |   11\n",
      "  34 |   24 |    1 |   10\n",
      "  34 |   25 |    1 |    9\n",
      "  34 |   26 |    1 |    8\n",
      "  34 |   27 |    1 |    7\n",
      "  34 |   28 |    1 |    6\n",
      "  34 |   29 |    1 |    5\n",
      "  34 |   30 |    1 |    4\n",
      "  34 |   31 |    1 |    3\n",
      "  34 |   32 |    1 |    2\n",
      "  34 |   33 |    1 |    1\n",
      "  34 |   34 |    1 |    0\n"
     ]
    }
   ],
   "source": [
    "## program to check wether a no. is prime or not\n",
    "num=int(input('enter a no. : '))\n",
    "start=2\n",
    "end=num-1\n",
    "while start<=num :\n",
    "    print(f\"{num:4} | {start:4} | {int(num/start):4} | {num%start:4}\") \n",
    "    start= start+1\n",
    "     \n"
   ]
  },
  {
   "cell_type": "code",
   "execution_count": 24,
   "metadata": {},
   "outputs": [
    {
     "name": "stdout",
     "output_type": "stream",
     "text": [
      "enter a no. : 43\n",
      "number 43 is prime\n"
     ]
    }
   ],
   "source": [
    "## to check if a no. is prime or not\n",
    "from math import ceil,sqrt\n",
    "num=int(input('enter a no. : '))\n",
    "start=2\n",
    "end=ceil(sqrt(num))\n",
    "while start<=end :\n",
    "    if num%start==0 :\n",
    "        print(f\"number {num} is not prime\")\n",
    "        break\n",
    "    start=start+1\n",
    "else :\n",
    "    print(f\"number {num} is prime\")"
   ]
  },
  {
   "cell_type": "code",
   "execution_count": null,
   "metadata": {},
   "outputs": [],
   "source": [
    "from math import ceil,sqrt\n",
    "counter=101\n",
    "while counter<=1000 :\n",
    "    num=counter\n",
    "    start=2\n",
    "    end=ceil(sqrt(num))\n",
    "    while start<=end :\n",
    "         if num%start==0 :\n",
    "            break\n",
    "    start=start+1\n",
    "else :\n",
    "    print(f\"{counter}\")"
   ]
  },
  {
   "cell_type": "code",
   "execution_count": null,
   "metadata": {},
   "outputs": [],
   "source": []
  },
  {
   "cell_type": "code",
   "execution_count": null,
   "metadata": {},
   "outputs": [],
   "source": []
  }
 ],
 "metadata": {
  "kernelspec": {
   "display_name": "Python 3",
   "language": "python",
   "name": "python3"
  },
  "language_info": {
   "codemirror_mode": {
    "name": "ipython",
    "version": 3
   },
   "file_extension": ".py",
   "mimetype": "text/x-python",
   "name": "python",
   "nbconvert_exporter": "python",
   "pygments_lexer": "ipython3",
   "version": "3.6.4"
  }
 },
 "nbformat": 4,
 "nbformat_minor": 2
}
