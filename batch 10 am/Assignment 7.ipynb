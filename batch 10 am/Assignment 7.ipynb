{
 "cells": [
  {
   "cell_type": "code",
   "execution_count": 3,
   "metadata": {},
   "outputs": [
    {
     "name": "stdout",
     "output_type": "stream",
     "text": [
      "enter first number : 6\n",
      "enter second number : 3\n",
      "6 is greatest\n"
     ]
    }
   ],
   "source": [
    "## maximun between two no\n",
    "num1=int(input('enter first number : '))\n",
    "num2=int(input('enter second number : '))\n",
    "print(f'{num1} is greatest') if num1>num2 else print(f\"{num2} is greatest\")"
   ]
  },
  {
   "cell_type": "code",
   "execution_count": 4,
   "metadata": {},
   "outputs": [],
   "source": [
    "## maximum between three numbers\n",
    "## program to check wether entered no. is positive o negative\n",
    "##check divisible by 5 and 11\n",
    "## check whether no. is odd or not\n",
    "## leap year or not\n",
    "## character is alphabet or not\n",
    "## check vowel or constant\n",
    "## input month n. and print no of days\n",
    "## to checkwhether traingle is valid or not\n"
   ]
  },
  {
   "cell_type": "code",
   "execution_count": 8,
   "metadata": {},
   "outputs": [
    {
     "name": "stdout",
     "output_type": "stream",
     "text": [
      "enter first no.7\n",
      "enter second no.9\n",
      "enter third no.6\n",
      "9 is greatest\n"
     ]
    }
   ],
   "source": [
    "## maximum among three numbers\n",
    "num1=int(input('enter first no.'))\n",
    "num2=int(input('enter second no.'))\n",
    "num3=int(input('enter third no.'))\n",
    "if num1>num2 :\n",
    "    if num1>num3 :\n",
    "        print(f'{num1} is greatest')\n",
    "    else :\n",
    "        print(f\"{num3} is greatest\")\n",
    "elif num2>num3:\n",
    "    print(f\"{num2} is greatest\")\n",
    "else : \n",
    "    print(f'{num3} is greatest')"
   ]
  },
  {
   "cell_type": "code",
   "execution_count": 11,
   "metadata": {},
   "outputs": [
    {
     "name": "stdout",
     "output_type": "stream",
     "text": [
      "enter a no. : 6\n",
      "6 is positive \n"
     ]
    }
   ],
   "source": [
    "## check whether no. is positive \n",
    "num=int(input('enter a no. : '))\n",
    "print(f'{num} is positive ') if num>=0 else print(f'{num} is negative')"
   ]
  },
  {
   "cell_type": "code",
   "execution_count": 13,
   "metadata": {},
   "outputs": [
    {
     "name": "stdout",
     "output_type": "stream",
     "text": [
      "enter a number : 44\n",
      "44 is not divisible by 5 and 11\n"
     ]
    }
   ],
   "source": [
    "## check divisible by 5 and 11\n",
    "num=int(input('enter a number : '))\n",
    "if num%5==0 and num%11==0 :\n",
    "    print(f'{num} is divisible by 5 and 11')\n",
    "else :\n",
    "    print(f'{num} is not divisible by 5 and 11')"
   ]
  },
  {
   "cell_type": "code",
   "execution_count": 15,
   "metadata": {},
   "outputs": [
    {
     "name": "stdout",
     "output_type": "stream",
     "text": [
      "enter a no. : 6\n",
      "6 is even\n"
     ]
    }
   ],
   "source": [
    "## check whether no. is odd or not\n",
    "num=int(input('enter a no. : '))\n",
    "print(f'{num} is even') if num%2==0 else print(f'{num} is odd')"
   ]
  },
  {
   "cell_type": "code",
   "execution_count": 27,
   "metadata": {},
   "outputs": [
    {
     "name": "stdout",
     "output_type": "stream",
     "text": [
      "enter a year : 2015\n",
      "2015 is not a leap year\n"
     ]
    }
   ],
   "source": [
    "## leap year or not\n",
    "year=int(input('enter a year : '))\n",
    "if year%4==0 :\n",
    "    print(f'{year} is a leap year')\n",
    "else :\n",
    "    print(f'{year} is not a leap year')"
   ]
  },
  {
   "cell_type": "code",
   "execution_count": 3,
   "metadata": {},
   "outputs": [
    {
     "name": "stdout",
     "output_type": "stream",
     "text": [
      "enter a character : 4\n",
      "4 is not an alphabet\n"
     ]
    }
   ],
   "source": [
    "## character is alphabet or not\n",
    "char=input('enter a character : ')\n",
    "if (char>='a' and char<='z') or (char>='A' and char<='Z') :\n",
    "    print(f'{char} is an alphabet')\n",
    "elif :\n",
    "    print(f'{char} is not an alphabet')"
   ]
  },
  {
   "cell_type": "code",
   "execution_count": 7,
   "metadata": {},
   "outputs": [
    {
     "name": "stdout",
     "output_type": "stream",
     "text": [
      "enter a month : january\n",
      "January has 31 days\n"
     ]
    }
   ],
   "source": [
    "list=['January','March','May','July','August','October','December']\n",
    "month=input('enter a month : ').title().strip()\n",
    "if month in list :\n",
    "    print(f\"{month} has 31 days\")\n",
    "elif month=='February' :\n",
    "    print((f\"{month} has 28 or 29 days\"))\n",
    "else :\n",
    "    print(f\"{month} has 30 days\")"
   ]
  },
  {
   "cell_type": "code",
   "execution_count": 2,
   "metadata": {},
   "outputs": [
    {
     "name": "stdout",
     "output_type": "stream",
     "text": [
      "enter a character : e\n",
      "e is a  vowel\n"
     ]
    }
   ],
   "source": [
    "## check vowel or constant\n",
    "vowel=['a','e','i','o','u','A','E','I','O','U']\n",
    "char=input('enter a character : ')\n",
    "if char in vowel :\n",
    "    print(f\"{char} is a  vowel\")\n",
    "else :\n",
    "    print(f\"{char} is a consonant\")"
   ]
  },
  {
   "cell_type": "code",
   "execution_count": 3,
   "metadata": {},
   "outputs": [
    {
     "name": "stdout",
     "output_type": "stream",
     "text": [
      "Enter an angle : 60\n",
      "Enter an angle : 110\n",
      "Enter an angle : 10\n",
      "entered angles 60, 110 and 10 are valid for triangle\n"
     ]
    }
   ],
   "source": [
    "## to checkwhether traingle is valid or not\n",
    "angle1=int(input('Enter an angle : '))\n",
    "angle2=int(input('Enter an angle : '))\n",
    "angle3=int(input('Enter an angle : '))\n",
    "if angle1+angle2+angle3==180 :\n",
    "    print(f\"entered angles {angle1}, {angle2} and {angle3} are valid for triangle\")\n",
    "else :\n",
    "    print(\"invalid angle values for triangle\")"
   ]
  },
  {
   "cell_type": "code",
   "execution_count": 5,
   "metadata": {},
   "outputs": [
    {
     "name": "stdout",
     "output_type": "stream",
     "text": [
      "enter a key : 4\n",
      "Hello world\n",
      "Enter a key : 5\n",
      "Hello world\n",
      "Enter a key : \n",
      "bye world\n"
     ]
    }
   ],
   "source": [
    "## print hello wold till user press any key otherwise print bye world\n",
    "key=input('enter a key : ')\n",
    "while key :\n",
    "    print(\"Hello world\")\n",
    "    key=input('Enter a key : ')\n",
    "else :\n",
    "    print('bye world')"
   ]
  },
  {
   "cell_type": "code",
   "execution_count": 9,
   "metadata": {},
   "outputs": [
    {
     "name": "stdout",
     "output_type": "stream",
     "text": [
      "enter starting number : 1000\n",
      "enter ending number : 1100\n",
      "1009,  1013,  1019,  1021,  1031,  1033,  1039,  1049,  1051,  1061,  1063,  1069,  1087,  1091,  1093,  1097,  succesfully done\n",
      "prime numbers between 1101 and 1100 are 16\n"
     ]
    }
   ],
   "source": [
    "## print the prime numbers in given a range\n",
    "from math import ceil,sqrt\n",
    "start_count=int(input('enter starting number : '))\n",
    "end_count=int(input('enter ending number : '))\n",
    "counter=0\n",
    "while start_count<=end_count :\n",
    "    num=start_count\n",
    "    start=2\n",
    "    end=ceil(sqrt(num))\n",
    "    while start<=end :\n",
    "        if num%start==0 :\n",
    "            break\n",
    "        start=start+1\n",
    "    else :\n",
    "        print(num,end=\",  \")\n",
    "        counter+=1\n",
    "    start_count+=1\n",
    "else :\n",
    "    print(\"succesfully done\")\n",
    "    print(f\"prime numbers between {start_count} and {end_count} are {counter}\")\n"
   ]
  },
  {
   "cell_type": "code",
   "execution_count": 10,
   "metadata": {},
   "outputs": [],
   "source": [
    "spam=[2,4,6,8,10]"
   ]
  },
  {
   "cell_type": "code",
   "execution_count": 11,
   "metadata": {},
   "outputs": [
    {
     "data": {
      "text/plain": [
       "[2, 4, 'hello', 6, 8, 10]"
      ]
     },
     "execution_count": 11,
     "metadata": {},
     "output_type": "execute_result"
    }
   ],
   "source": [
    "spam.insert(2,'hello')\n",
    "spam"
   ]
  },
  {
   "cell_type": "code",
   "execution_count": 12,
   "metadata": {},
   "outputs": [
    {
     "name": "stdout",
     "output_type": "stream",
     "text": [
      "['__add__', '__class__', '__contains__', '__delattr__', '__delitem__', '__dir__', '__doc__', '__eq__', '__format__', '__ge__', '__getattribute__', '__getitem__', '__gt__', '__hash__', '__iadd__', '__imul__', '__init__', '__init_subclass__', '__iter__', '__le__', '__len__', '__lt__', '__mul__', '__ne__', '__new__', '__reduce__', '__reduce_ex__', '__repr__', '__reversed__', '__rmul__', '__setattr__', '__setitem__', '__sizeof__', '__str__', '__subclasshook__', 'append', 'clear', 'copy', 'count', 'extend', 'index', 'insert', 'pop', 'remove', 'reverse', 'sort']\n"
     ]
    }
   ],
   "source": [
    "print(dir(list))"
   ]
  },
  {
   "cell_type": "code",
   "execution_count": 15,
   "metadata": {},
   "outputs": [
    {
     "name": "stdout",
     "output_type": "stream",
     "text": [
      "[10, 8, 6, 'hello', 4, 2]\n"
     ]
    }
   ],
   "source": [
    "spam.reverse()\n",
    "print(spam)"
   ]
  },
  {
   "cell_type": "code",
   "execution_count": 19,
   "metadata": {},
   "outputs": [
    {
     "data": {
      "text/plain": [
       "1"
      ]
     },
     "execution_count": 19,
     "metadata": {},
     "output_type": "execute_result"
    }
   ],
   "source": [
    "spam.count(8)"
   ]
  },
  {
   "cell_type": "code",
   "execution_count": 20,
   "metadata": {},
   "outputs": [
    {
     "data": {
      "text/plain": [
       "2"
      ]
     },
     "execution_count": 20,
     "metadata": {},
     "output_type": "execute_result"
    }
   ],
   "source": [
    "spam[-1]"
   ]
  },
  {
   "cell_type": "code",
   "execution_count": 21,
   "metadata": {},
   "outputs": [
    {
     "data": {
      "text/plain": [
       "[10, 8]"
      ]
     },
     "execution_count": 21,
     "metadata": {},
     "output_type": "execute_result"
    }
   ],
   "source": [
    "spam[:2]"
   ]
  },
  {
   "cell_type": "code",
   "execution_count": 22,
   "metadata": {},
   "outputs": [
    {
     "data": {
      "text/plain": [
       "'hello'"
      ]
     },
     "execution_count": 22,
     "metadata": {},
     "output_type": "execute_result"
    }
   ],
   "source": [
    "spam[int(int('3'*2)//11)]"
   ]
  },
  {
   "cell_type": "code",
   "execution_count": 3,
   "metadata": {},
   "outputs": [],
   "source": [
    "bacon=[3.14,'cat',11,'cat',True]"
   ]
  },
  {
   "cell_type": "code",
   "execution_count": 4,
   "metadata": {},
   "outputs": [
    {
     "data": {
      "text/plain": [
       "1"
      ]
     },
     "execution_count": 4,
     "metadata": {},
     "output_type": "execute_result"
    }
   ],
   "source": [
    "bacon.index('cat')"
   ]
  },
  {
   "cell_type": "code",
   "execution_count": 5,
   "metadata": {},
   "outputs": [],
   "source": [
    "bacon.append(99)"
   ]
  },
  {
   "cell_type": "code",
   "execution_count": 6,
   "metadata": {},
   "outputs": [
    {
     "data": {
      "text/plain": [
       "[3.14, 'cat', 11, 'cat', True, 99]"
      ]
     },
     "execution_count": 6,
     "metadata": {},
     "output_type": "execute_result"
    }
   ],
   "source": [
    "bacon"
   ]
  },
  {
   "cell_type": "code",
   "execution_count": 7,
   "metadata": {},
   "outputs": [],
   "source": [
    "bacon.remove('cat')"
   ]
  },
  {
   "cell_type": "code",
   "execution_count": 8,
   "metadata": {},
   "outputs": [
    {
     "data": {
      "text/plain": [
       "[3.14, 11, 'cat', True, 99]"
      ]
     },
     "execution_count": 8,
     "metadata": {},
     "output_type": "execute_result"
    }
   ],
   "source": [
    "bacon"
   ]
  },
  {
   "cell_type": "code",
   "execution_count": 9,
   "metadata": {},
   "outputs": [
    {
     "ename": "NameError",
     "evalue": "name 'spam' is not defined",
     "output_type": "error",
     "traceback": [
      "\u001b[1;31m---------------------------------------------------------------------------\u001b[0m",
      "\u001b[1;31mNameError\u001b[0m                                 Traceback (most recent call last)",
      "\u001b[1;32m<ipython-input-9-c409cd0c3506>\u001b[0m in \u001b[0;36m<module>\u001b[1;34m()\u001b[0m\n\u001b[1;32m----> 1\u001b[1;33m \u001b[0mbacon\u001b[0m\u001b[1;33m+\u001b[0m\u001b[0mspam\u001b[0m\u001b[1;33m\u001b[0m\u001b[0m\n\u001b[0m",
      "\u001b[1;31mNameError\u001b[0m: name 'spam' is not defined"
     ]
    }
   ],
   "source": [
    "bacon+spam\n"
   ]
  },
  {
   "cell_type": "code",
   "execution_count": 10,
   "metadata": {},
   "outputs": [],
   "source": [
    "list=bacon"
   ]
  },
  {
   "cell_type": "code",
   "execution_count": 11,
   "metadata": {},
   "outputs": [
    {
     "data": {
      "text/plain": [
       "[3.14, 11, 'cat', True, 99]"
      ]
     },
     "execution_count": 11,
     "metadata": {},
     "output_type": "execute_result"
    }
   ],
   "source": [
    "list"
   ]
  },
  {
   "cell_type": "code",
   "execution_count": 34,
   "metadata": {},
   "outputs": [
    {
     "data": {
      "text/plain": [
       "[3.14, 11, 'cat', True, 99]"
      ]
     },
     "execution_count": 34,
     "metadata": {},
     "output_type": "execute_result"
    }
   ],
   "source": [
    "bacon"
   ]
  },
  {
   "cell_type": "code",
   "execution_count": 12,
   "metadata": {},
   "outputs": [
    {
     "data": {
      "text/plain": [
       "11"
      ]
     },
     "execution_count": 12,
     "metadata": {},
     "output_type": "execute_result"
    }
   ],
   "source": [
    "bacon.pop(1)"
   ]
  },
  {
   "cell_type": "code",
   "execution_count": 13,
   "metadata": {},
   "outputs": [
    {
     "data": {
      "text/plain": [
       "[3.14, 'cat', True, 99]"
      ]
     },
     "execution_count": 13,
     "metadata": {},
     "output_type": "execute_result"
    }
   ],
   "source": [
    "bacon"
   ]
  },
  {
   "cell_type": "code",
   "execution_count": 14,
   "metadata": {},
   "outputs": [],
   "source": [
    "bacon.remove('cat')"
   ]
  },
  {
   "cell_type": "code",
   "execution_count": 22,
   "metadata": {},
   "outputs": [],
   "source": [
    "bacon.append('pradeep')"
   ]
  },
  {
   "cell_type": "code",
   "execution_count": 16,
   "metadata": {},
   "outputs": [
    {
     "data": {
      "text/plain": [
       "[3.14, True, 99, 'pradeep']"
      ]
     },
     "execution_count": 16,
     "metadata": {},
     "output_type": "execute_result"
    }
   ],
   "source": [
    "bacon"
   ]
  },
  {
   "cell_type": "code",
   "execution_count": 19,
   "metadata": {},
   "outputs": [],
   "source": [
    "bacon.insert(3,89)"
   ]
  },
  {
   "cell_type": "code",
   "execution_count": 23,
   "metadata": {},
   "outputs": [
    {
     "data": {
      "text/plain": [
       "[3.14, True, 99, 89, 89, 'pradeep', 'pradeep']"
      ]
     },
     "execution_count": 23,
     "metadata": {},
     "output_type": "execute_result"
    }
   ],
   "source": [
    "bacon"
   ]
  },
  {
   "cell_type": "code",
   "execution_count": 34,
   "metadata": {},
   "outputs": [
    {
     "name": "stdout",
     "output_type": "stream",
     "text": [
      "3.14\tTrue\t99\t89\t89\tpradeep\tpradeep\t"
     ]
    }
   ],
   "source": [
    "for var in bacon :\n",
    "    print(var,end='\\t')"
   ]
  },
  {
   "cell_type": "code",
   "execution_count": 36,
   "metadata": {},
   "outputs": [],
   "source": [
    "d={100:{'name':'Pradeep','age':21,'College':'acerc'}}\n",
    "d[100]['age']=22"
   ]
  },
  {
   "cell_type": "code",
   "execution_count": 37,
   "metadata": {},
   "outputs": [
    {
     "data": {
      "text/plain": [
       "{100: {'College': 'acerc', 'age': 22, 'name': 'Pradeep'}}"
      ]
     },
     "execution_count": 37,
     "metadata": {},
     "output_type": "execute_result"
    }
   ],
   "source": [
    "d"
   ]
  },
  {
   "cell_type": "code",
   "execution_count": 13,
   "metadata": {},
   "outputs": [
    {
     "name": "stdout",
     "output_type": "stream",
     "text": [
      "Pradeep Sharma\n"
     ]
    }
   ],
   "source": [
    "p=\"Pradeep Sharma\"\n",
    "p.split('\\n')\n",
    "print(p)"
   ]
  },
  {
   "cell_type": "code",
   "execution_count": 6,
   "metadata": {},
   "outputs": [
    {
     "name": "stdout",
     "output_type": "stream",
     "text": [
      "Enter no. of Rows : 2\n",
      "Enter no. of Columns : 2\n",
      "1 2\n",
      "3 4\n",
      "[<map object at 0x0000023166CB3E80>]\t[<map object at 0x0000023166CB02E8>]\n",
      "[<map object at 0x0000023166CB3E80>]\t[<map object at 0x0000023166CB02E8>]\n"
     ]
    }
   ],
   "source": [
    "## Matrix Multiplication\n",
    "r=int(input('Enter no. of Rows : '))\n",
    "c=int(input('Enter no. of Columns : '))\n",
    "m=[]\n",
    "for i in range(r) :\n",
    "    a=[]\n",
    "    a.append(map(int,input().split()))\n",
    "    m.append(a)\n",
    "for i in range(r) :\n",
    "    print(*m,sep='\\t')"
   ]
  },
  {
   "cell_type": "code",
   "execution_count": 4,
   "metadata": {},
   "outputs": [
    {
     "name": "stdout",
     "output_type": "stream",
     "text": [
      "enter a number : 5\n",
      "{1: 1, 2: 8, 3: 27, 4: 64, 5: 125}\n"
     ]
    }
   ],
   "source": [
    "n=int(input('enter a number : '))\n",
    "d={}\n",
    "for i in range(1,n+1) :\n",
    "    d[i]=i**3\n",
    "print(d)"
   ]
  },
  {
   "cell_type": "markdown",
   "metadata": {},
   "source": [
    "# Map functions examples\n"
   ]
  },
  {
   "cell_type": "code",
   "execution_count": 7,
   "metadata": {},
   "outputs": [
    {
     "name": "stdout",
     "output_type": "stream",
     "text": [
      "enter values : 1,2,3,4,5,6,7\n",
      "[1, 2, 3, 4, 5, 6, 7]\n",
      "(1, 2, 3, 4, 5, 6, 7)\n"
     ]
    }
   ],
   "source": [
    "values=list(map(int,input('enter values : ').split(',')))\n",
    "l=tuple(values)\n",
    "print(values)\n",
    "print(l)"
   ]
  },
  {
   "cell_type": "code",
   "execution_count": 23,
   "metadata": {},
   "outputs": [
    {
     "name": "stdout",
     "output_type": "stream",
     "text": [
      "enter values : 100,150,180\n",
      "18, 22, 24, "
     ]
    }
   ],
   "source": [
    "# Q = Square root of [(2 * C * D)/H]\n",
    "# Following are the fixed values of C and H:\n",
    "# C is 50. H is 30.\n",
    "# D is the variable\n",
    "from math import sqrt,ceil\n",
    "C=50\n",
    "H=30\n",
    "D=list(map(int,input('enter values : ').split(',')))\n",
    "\n",
    "for each in D :\n",
    "    print(round(sqrt((2 * C * each)/H)),end=', ')\n"
   ]
  },
  {
   "cell_type": "code",
   "execution_count": 2,
   "metadata": {},
   "outputs": [
    {
     "name": "stdout",
     "output_type": "stream",
     "text": [
      "Enter no. of row and column : 2 2\n",
      "2 3\n",
      "3 4\n",
      "[[2, 3], [3, 4]]\n",
      "[[4, 9], [9, 16]]\n"
     ]
    }
   ],
   "source": [
    "## The code for taking an matrix input from User in single line\n",
    "\n",
    "x,y=list(map(int,input('Enter no. of row and column : ').split()))\n",
    "# These comment lines from 3 to 8 works same as the line no. 9 and 10 does\n",
    "#a=[]\n",
    "# for i in range(x) :\n",
    "#    col=[]\n",
    "#    for j in range(y) :\n",
    "#       col.append(0)\n",
    "#    a.append(col) \n",
    "\n",
    "a=[list(map(int,input().split()))  for i in range(x)]\n",
    "print(a) \n",
    "\n",
    "for i in range(x) :\n",
    "    for j in range(y) :\n",
    "        a[i][j]=a[i][j]**2\n",
    "print(a)"
   ]
  },
  {
   "cell_type": "code",
   "execution_count": 46,
   "metadata": {},
   "outputs": [
    {
     "name": "stdout",
     "output_type": "stream",
     "text": [
      "3,5\n",
      "[[0, 0, 0, 0, 0], [0, 0, 0, 0, 0], [0, 0, 0, 0, 0]]\n",
      "[[0, 0, 0, 0, 0], [0, 1, 2, 3, 4], [0, 2, 4, 6, 8]]\n"
     ]
    }
   ],
   "source": [
    "input_str = input()\n",
    "dimensions=[int(x) for x in input_str.split(',')]\n",
    "rowNum=dimensions[0]\n",
    "colNum=dimensions[1]\n",
    "multilist = [[0 for col in range(colNum)] for row in range(rowNum)]\n",
    "print(multilist)\n",
    "for row in range(rowNum):\n",
    "    for col in range(colNum):\n",
    "        multilist[row][col]= row*col\n",
    "print(multilist)"
   ]
  },
  {
   "cell_type": "code",
   "execution_count": 13,
   "metadata": {},
   "outputs": [
    {
     "name": "stdout",
     "output_type": "stream",
     "text": [
      "5 7 3\n",
      "3 is smallest\n"
     ]
    }
   ],
   "source": [
    "a,b,c=map(int,input('').split())\n",
    "if a<c :\n",
    "    if a<b :\n",
    "        print(f\"{a} is smallest\")\n",
    "    elif b<c :\n",
    "        print(f\"{b} is smallest\")\n",
    "elif b<c :\n",
    "    print(f\"{b} is smallest\")\n",
    "else :\n",
    "    print(f\"{c} is smallest\")\n",
    "        \n",
    "        \n",
    "        "
   ]
  },
  {
   "cell_type": "code",
   "execution_count": 4,
   "metadata": {},
   "outputs": [
    {
     "name": "stdout",
     "output_type": "stream",
     "text": [
      "Enter num1 : 22\n",
      "Enter num2 : 108\n",
      "2\n"
     ]
    }
   ],
   "source": [
    "## Program  to find GCD or HCF\n",
    "\n",
    "def gcd(a,b) :\n",
    "    if a== 0 :\n",
    "        return b\n",
    "    else :\n",
    "        return gcd(b%a,a)\n",
    "    \n",
    "\n",
    "num1=int(input('Enter num1 : '))\n",
    "num2=int(input('Enter num2 : '))\n",
    "if num1<num2 :\n",
    "    f=gcd(num1,num2)\n",
    "else :\n",
    "    f=gcd(num2,num1)\n",
    "print(f)\n"
   ]
  },
  {
   "cell_type": "code",
   "execution_count": 16,
   "metadata": {},
   "outputs": [
    {
     "name": "stdout",
     "output_type": "stream",
     "text": [
      "enter cofficient of equation i.e. a,b c4 2 1\n",
      "4x*2+2x+1\n",
      "Roots are imaginary\n"
     ]
    }
   ],
   "source": [
    "#  Find all roots of quadratic equation\n",
    "from math import sqrt\n",
    "a,b,c=map(int,input('enter cofficient of equation i.e. a,b,c : ').split())\n",
    "print(f\"{a}x*2+{b}x+{c}\")\n",
    "d=b**2-4*a*c\n",
    "if d>=0 :\n",
    "    x1=(-b+sqrt(d))/2*a\n",
    "    x2=(-b-sqrt(d))/2*a\n",
    "else :\n",
    "    print('Roots are imaginary')"
   ]
  },
  {
   "cell_type": "code",
   "execution_count": null,
   "metadata": {},
   "outputs": [],
   "source": []
  }
 ],
 "metadata": {
  "kernelspec": {
   "display_name": "Python 3",
   "language": "python",
   "name": "python3"
  },
  "language_info": {
   "codemirror_mode": {
    "name": "ipython",
    "version": 3
   },
   "file_extension": ".py",
   "mimetype": "text/x-python",
   "name": "python",
   "nbconvert_exporter": "python",
   "pygments_lexer": "ipython3",
   "version": "3.6.4"
  }
 },
 "nbformat": 4,
 "nbformat_minor": 2
}
