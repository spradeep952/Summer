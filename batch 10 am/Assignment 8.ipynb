{
 "cells": [
  {
   "cell_type": "code",
   "execution_count": 20,
   "metadata": {},
   "outputs": [
    {
     "name": "stdout",
     "output_type": "stream",
     "text": [
      "enter marks of five subjects : \n",
      "56\n",
      "65\n",
      "78\n",
      "43\n",
      "45\n",
      "[56, 65, 78, 43, 45]\n",
      "{57: [56, 65, 78, 43, 45, 'E']}\n"
     ]
    }
   ],
   "source": [
    "l=[]\n",
    "sum=0\n",
    "print('enter marks of five subjects : ')\n",
    "for i in range(5):\n",
    "    marks=int(input())\n",
    "    sum+=marks\n",
    "    l.append(marks)\n",
    "print(l)\n",
    "per=round((sum/500)*100)\n",
    "if per >= 90 :\n",
    "    l.append('A')\n",
    "elif per >= 80 : \n",
    "    l.append('B')\n",
    "elif per >= 70 : \n",
    "    l.append('C')\n",
    "elif per >= 60 : \n",
    "    l.append('D')\n",
    "elif per >= 40 : \n",
    "    l.append('E')\n",
    "elif per < 40 :\n",
    "    l.append('F')\n",
    "    \n",
    "data={per:l}\n",
    "\n",
    "print(data)\n"
   ]
  },
  {
   "cell_type": "code",
   "execution_count": 33,
   "metadata": {},
   "outputs": [
    {
     "name": "stdout",
     "output_type": "stream",
     "text": [
      "{64: [45, 65, 78, 65, 67], 'grade': 'C'}\n"
     ]
    }
   ],
   "source": [
    "user={64:[45,65,78,65,67]\n",
    "     }\n",
    "sum=0\n",
    "for i in user[64] :\n",
    "    sum+=i\n",
    "per=round(sum/500*100)\n",
    "if per>=60:\n",
    "    user.update(grade='C')\n",
    "\n",
    "print(user)"
   ]
  },
  {
   "cell_type": "code",
   "execution_count": 4,
   "metadata": {},
   "outputs": [
    {
     "name": "stdout",
     "output_type": "stream",
     "text": [
      "enter no .of row and column4\n",
      "8 7 6 3\n",
      "2 5 9 4\n",
      "-2 7 5 -9\n",
      "4 6 8 -5\n",
      "2\n"
     ]
    }
   ],
   "source": [
    "import math\n",
    "import os\n",
    "import random\n",
    "import re\n",
    "import sys\n",
    "\n",
    "# Complete the diagonalDifference function below.\n",
    "def diagonalDifference(arr):\n",
    "    d1=0\n",
    "    d2=0\n",
    "    for i in range(n):\n",
    "        for j in range(n):\n",
    "            if i==j:\n",
    "                d1+=arr[i][j]\n",
    "            if i+j==n-1:\n",
    "                d2+=arr[i][j]\n",
    "    return abs(d1-d2)\n",
    "\n",
    "\n",
    "if __name__ == '__main__':\n",
    "\n",
    "    n = int(input('enter no .of row and column'))\n",
    "\n",
    "    arr = []\n",
    "\n",
    "    for _ in range(n):\n",
    "        arr.append(list(map(int, input().rstrip().split())))\n",
    "\n",
    "    result = diagonalDifference(arr)\n",
    "\n",
    "    print(result)\n"
   ]
  },
  {
   "cell_type": "code",
   "execution_count": 14,
   "metadata": {},
   "outputs": [
    {
     "name": "stdout",
     "output_type": "stream",
     "text": [
      "5\n",
      "        # \n",
      "      # # \n",
      "    # # # \n",
      "  # # # # \n",
      "# # # # # \n"
     ]
    }
   ],
   "source": [
    "\n",
    "import math\n",
    "import os\n",
    "import random\n",
    "import re\n",
    "import sys\n",
    "\n",
    "# Complete the staircase function below.\n",
    "def staircase(n):\n",
    "    for i in range(n):\n",
    "        for j in range(n):\n",
    "            if j<n-i-1:\n",
    "                print(' ',end=' ')\n",
    "            else :\n",
    "                print('#',end=' ')\n",
    "        print()\n",
    "\n",
    "if __name__ == '__main__':\n",
    "    n = int(input())\n",
    "\n",
    "    staircase(n)"
   ]
  },
  {
   "cell_type": "code",
   "execution_count": 15,
   "metadata": {},
   "outputs": [
    {
     "name": "stdout",
     "output_type": "stream",
     "text": [
      "True\n"
     ]
    }
   ],
   "source": [
    "print(bool('PSradeep'))"
   ]
  },
  {
   "cell_type": "code",
   "execution_count": 17,
   "metadata": {},
   "outputs": [
    {
     "name": "stdout",
     "output_type": "stream",
     "text": [
      "False\n"
     ]
    }
   ],
   "source": [
    "print(bool())"
   ]
  },
  {
   "cell_type": "code",
   "execution_count": 23,
   "metadata": {},
   "outputs": [
    {
     "name": "stdout",
     "output_type": "stream",
     "text": [
      "{}\n",
      "{'a': 98, 'b': 98, 'c': 98, 'd': 98}\n"
     ]
    }
   ],
   "source": [
    "a={}\n",
    "b=a.fromkeys(['a','b','c','d'],98)\n",
    "print(a)\n",
    "print(b)"
   ]
  },
  {
   "cell_type": "code",
   "execution_count": 7,
   "metadata": {},
   "outputs": [
    {
     "name": "stdout",
     "output_type": "stream",
     "text": [
      "['A', 'B', 'C']\n"
     ]
    }
   ],
   "source": [
    "letters=['a','b','c']\n",
    "\n",
    "#output l=['A','B','C']  produce by list comprehension\n",
    "l=[]\n",
    "for var in letters:\n",
    "    l.append(var.upper())\n",
    "    \n",
    "print(l)\n"
   ]
  },
  {
   "cell_type": "code",
   "execution_count": 8,
   "metadata": {},
   "outputs": [],
   "source": [
    "l=[ var.upper() for var in letters]"
   ]
  },
  {
   "cell_type": "code",
   "execution_count": 9,
   "metadata": {},
   "outputs": [
    {
     "data": {
      "text/plain": [
       "['A', 'B', 'C']"
      ]
     },
     "execution_count": 9,
     "metadata": {},
     "output_type": "execute_result"
    }
   ],
   "source": [
    "l"
   ]
  },
  {
   "cell_type": "code",
   "execution_count": null,
   "metadata": {},
   "outputs": [],
   "source": []
  }
 ],
 "metadata": {
  "kernelspec": {
   "display_name": "Python 3",
   "language": "python",
   "name": "python3"
  },
  "language_info": {
   "codemirror_mode": {
    "name": "ipython",
    "version": 3
   },
   "file_extension": ".py",
   "mimetype": "text/x-python",
   "name": "python",
   "nbconvert_exporter": "python",
   "pygments_lexer": "ipython3",
   "version": "3.6.4"
  }
 },
 "nbformat": 4,
 "nbformat_minor": 2
}
