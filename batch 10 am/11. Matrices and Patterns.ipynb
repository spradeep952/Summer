{
 "cells": [
  {
   "cell_type": "code",
   "execution_count": 3,
   "metadata": {},
   "outputs": [
    {
     "name": "stdout",
     "output_type": "stream",
     "text": [
      "*  \n",
      "*  *  \n",
      "*  *  *  \n",
      "*  *  *  *  \n",
      "*  *  *  *  *  \n",
      "*  *  *  *  *  *  \n",
      "*  *  *  *  *  *  *  \n",
      "*  *  *  *  *  *  *  *  \n",
      "*  *  *  *  *  *  *  *  *  \n",
      "*  *  *  *  *  *  *  *  *  *  \n"
     ]
    }
   ],
   "source": [
    "row=0\n",
    "while row<10 :\n",
    "    col=0\n",
    "    while col<=row :\n",
    "        print(\"*\",end='  ')\n",
    "        col=col+1\n",
    "    print()\n",
    "    row=row+1"
   ]
  },
  {
   "cell_type": "code",
   "execution_count": 5,
   "metadata": {},
   "outputs": [
    {
     "name": "stdout",
     "output_type": "stream",
     "text": [
      "row 1 -->\t0   \n",
      "row 2 -->\t0   1   \n",
      "row 3 -->\t0   1   2   \n",
      "row 4 -->\t0   1   2   3   \n"
     ]
    }
   ],
   "source": [
    "row=0\n",
    "while row<=3 :\n",
    "    print(f\"row {row+1} -->\",end=\"\\t\")\n",
    "    col=0\n",
    "    while col<=row :\n",
    "        print(f\"{col}\",end=\"   \")\n",
    "        col+=1\n",
    "    print()\n",
    "    row+=1"
   ]
  },
  {
   "cell_type": "code",
   "execution_count": 9,
   "metadata": {},
   "outputs": [
    {
     "name": "stdout",
     "output_type": "stream",
     "text": [
      "          *\n",
      "         **\n",
      "        ***\n",
      "       ****\n",
      "      *****\n",
      "     ******\n",
      "    *******\n",
      "   ********\n",
      "  *********\n",
      " **********\n",
      "***********\n"
     ]
    }
   ],
   "source": [
    "row=0\n",
    "while row<=10 :\n",
    "    col=0\n",
    "    while col<=10 :\n",
    "        if row<=(9-col) :\n",
    "            print(\" \",end=\"\")\n",
    "        else :\n",
    "            print(\"*\",end=\"\")\n",
    "        col+=1\n",
    "    print()\n",
    "    row+=1"
   ]
  },
  {
   "cell_type": "markdown",
   "metadata": {},
   "source": [
    " ## For Loop \n",
    " ### used for iterations"
   ]
  },
  {
   "cell_type": "code",
   "execution_count": 1,
   "metadata": {},
   "outputs": [],
   "source": [
    "## objects ---> iterables\n",
    "## numbers, string, list, tuple, dictionary, set"
   ]
  },
  {
   "cell_type": "code",
   "execution_count": 2,
   "metadata": {},
   "outputs": [
    {
     "name": "stdout",
     "output_type": "stream",
     "text": [
      "p\n",
      "y\n",
      "t\n",
      "h\n",
      "o\n",
      "n\n"
     ]
    }
   ],
   "source": [
    "## String\n",
    "for char in \"python\" :\n",
    "    print(char)"
   ]
  },
  {
   "cell_type": "code",
   "execution_count": 3,
   "metadata": {},
   "outputs": [
    {
     "name": "stdout",
     "output_type": "stream",
     "text": [
      "hello\n",
      "120\n",
      "9\n",
      "bye\n"
     ]
    }
   ],
   "source": [
    "## list\n",
    "mylist=['hello',120,9,'bye']\n",
    "for item in mylist :\n",
    "    print(item)"
   ]
  },
  {
   "cell_type": "code",
   "execution_count": 9,
   "metadata": {},
   "outputs": [
    {
     "name": "stdout",
     "output_type": "stream",
     "text": [
      "enter an integer : g\n",
      "Please enter only an integer\n",
      "enter an integer : \n",
      "Please enter only an integer\n",
      "enter an integer : g\n",
      "Please enter only an integer\n",
      "enter an integer : d\n",
      "Please enter only an integer\n",
      "enter an integer : h\n",
      "Please enter only an integer\n",
      "enter an integer : 5\n",
      "great you entered an integer 5\n"
     ]
    }
   ],
   "source": [
    "  ## write a code to print to take ony integer input\n",
    "\n",
    "while True:\n",
    "    try :\n",
    "        value=int(input('enter an integer : '))\n",
    "    except Exception as e :\n",
    "        print(\"Please enter only an integer\")\n",
    "    else :\n",
    "        print(\"great you entered an integer\",value)\n",
    "        break"
   ]
  },
  {
   "cell_type": "code",
   "execution_count": 14,
   "metadata": {},
   "outputs": [
    {
     "name": "stdout",
     "output_type": "stream",
     "text": [
      "P\n",
      "r\n",
      "a\n",
      "d\n",
      "e\n",
      "e\n",
      "p\n"
     ]
    }
   ],
   "source": [
    "## implement for loop using while fors string\n",
    "\n",
    "s='Pradeep'\n",
    "s=iter(s)\n",
    "while True :\n",
    "    try :\n",
    "        print(next(s))\n",
    "    except Exception :\n",
    "        break"
   ]
  },
  {
   "cell_type": "code",
   "execution_count": 19,
   "metadata": {},
   "outputs": [
    {
     "name": "stdout",
     "output_type": "stream",
     "text": [
      "[19, 7, 6, 20, 1, 12, 13, 19, 10, 10]\n",
      "[361, 49, 36, 400, 1, 144, 169, 361, 100, 100]\n"
     ]
    }
   ],
   "source": [
    "from random import randint\n",
    "list=[randint(1,20) for var in range(10)]\n",
    "newlist=[]\n",
    "print(list)\n",
    "for item in list :\n",
    "    new=item**2\n",
    "    newlist.append(new)\n",
    "print(newlist)"
   ]
  },
  {
   "cell_type": "code",
   "execution_count": 20,
   "metadata": {},
   "outputs": [],
   "source": [
    "d={'name': 'Python','author':'Guido Von Rossum','version':3.7,'modules':['numpy','matplotlib','scipy']}\n"
   ]
  },
  {
   "cell_type": "code",
   "execution_count": 22,
   "metadata": {},
   "outputs": [
    {
     "name": "stdout",
     "output_type": "stream",
     "text": [
      "Python\n",
      "Guido Von Rossum\n",
      "3.7\n",
      "['numpy', 'matplotlib', 'scipy']\n"
     ]
    }
   ],
   "source": [
    "for var in d :\n",
    "    print(d.get(var))"
   ]
  },
  {
   "cell_type": "code",
   "execution_count": 24,
   "metadata": {},
   "outputs": [
    {
     "name": "stdout",
     "output_type": "stream",
     "text": [
      "range(stop) -> range object\n",
      "range(start, stop[, step]) -> range object\n",
      "\n",
      "Return an object that produces a sequence of integers from start (inclusive)\n",
      "to stop (exclusive) by step.  range(i, j) produces i, i+1, i+2, ..., j-1.\n",
      "start defaults to 0, and stop is omitted!  range(4) produces 0, 1, 2, 3.\n",
      "These are exactly the valid indices for a list of 4 elements.\n",
      "When step is given, it specifies the increment (or decrement).\n"
     ]
    }
   ],
   "source": [
    "print(range.__doc__)"
   ]
  },
  {
   "cell_type": "code",
   "execution_count": 26,
   "metadata": {},
   "outputs": [
    {
     "name": "stdout",
     "output_type": "stream",
     "text": [
      "enter an number : 6\n",
      "6 12 18 24 30 36 42 48 54 60\n"
     ]
    }
   ],
   "source": [
    "num=int(input('enter an number : '))\n",
    "print(*range(num,num*10+1,num))"
   ]
  },
  {
   "cell_type": "code",
   "execution_count": 27,
   "metadata": {},
   "outputs": [
    {
     "name": "stdout",
     "output_type": "stream",
     "text": [
      "0\n",
      "1\n",
      "2\n",
      "3\n",
      "4\n",
      "5\n",
      "6\n",
      "7\n",
      "8\n",
      "9\n",
      "10\n"
     ]
    }
   ],
   "source": [
    "for var in range(11) :\n",
    "    print(var)"
   ]
  },
  {
   "cell_type": "code",
   "execution_count": 37,
   "metadata": {},
   "outputs": [
    {
     "name": "stdout",
     "output_type": "stream",
     "text": [
      "enter a number : 5\n",
      "0, 1, 1, 2, 3, "
     ]
    }
   ],
   "source": [
    "## fibonnaci series\n",
    "start=0\n",
    "end=1\n",
    "value=int(input('enter a number : '))\n",
    "print(start,end,sep=', ',end=', ')\n",
    "for var in range(value-2) :\n",
    "    print(start+end,end=', ')\n",
    "    start,end=end,start+end"
   ]
  },
  {
   "cell_type": "code",
   "execution_count": 32,
   "metadata": {},
   "outputs": [
    {
     "name": "stdout",
     "output_type": "stream",
     "text": [
      "6\n",
      "5\n"
     ]
    }
   ],
   "source": [
    "## swap \n",
    "var1=5\n",
    "var2=6\n",
    "var1=var1+var2\n",
    "var2=var1-var2\n",
    "var1=var1-var2\n",
    "print(var1)\n",
    "print(var2)"
   ]
  },
  {
   "cell_type": "code",
   "execution_count": null,
   "metadata": {},
   "outputs": [],
   "source": []
  }
 ],
 "metadata": {
  "kernelspec": {
   "display_name": "Python 3",
   "language": "python",
   "name": "python3"
  },
  "language_info": {
   "codemirror_mode": {
    "name": "ipython",
    "version": 3
   },
   "file_extension": ".py",
   "mimetype": "text/x-python",
   "name": "python",
   "nbconvert_exporter": "python",
   "pygments_lexer": "ipython3",
   "version": "3.6.4"
  }
 },
 "nbformat": 4,
 "nbformat_minor": 2
}
